{
 "cells": [
  {
   "cell_type": "code",
   "execution_count": 1,
   "id": "written-optics",
   "metadata": {},
   "outputs": [],
   "source": [
    "# Import the needed libraries\n",
    "import numpy as np"
   ]
  },
  {
   "cell_type": "markdown",
   "id": "polyphonic-finland",
   "metadata": {},
   "source": [
    "**34. How to get all the dates corresponding to the month of July 2016**"
   ]
  },
  {
   "cell_type": "code",
   "execution_count": 3,
   "id": "plastic-aaron",
   "metadata": {},
   "outputs": [
    {
     "output_type": "stream",
     "name": "stdout",
     "text": [
      "July, 2016\n['2016-07-01' '2016-07-02' '2016-07-03' '2016-07-04' '2016-07-05'\n '2016-07-06' '2016-07-07' '2016-07-08' '2016-07-09' '2016-07-10'\n '2016-07-11' '2016-07-12' '2016-07-13' '2016-07-14' '2016-07-15'\n '2016-07-16' '2016-07-17' '2016-07-18' '2016-07-19' '2016-07-20'\n '2016-07-21' '2016-07-22' '2016-07-23' '2016-07-24' '2016-07-25'\n '2016-07-26' '2016-07-27' '2016-07-28' '2016-07-29' '2016-07-30'\n '2016-07-31']\n"
     ]
    }
   ],
   "source": [
    "\n",
    "print(\"July, 2016\")\n",
    "print(np.arange('2016-07', '2016-08', dtype='datetime64[D]'))\n"
   ]
  },
  {
   "cell_type": "markdown",
   "id": "opposite-impact",
   "metadata": {},
   "source": [
    "**42. Consider two random array A and B, check if they are equal**"
   ]
  },
  {
   "cell_type": "code",
   "execution_count": 9,
   "metadata": {},
   "outputs": [
    {
     "output_type": "stream",
     "name": "stdout",
     "text": [
      "First array:\n[0 1 0]\nSecond array:\n[0 1 0]\nTest if a and b the same\nTrue\n"
     ]
    }
   ],
   "source": [
    "a = np.random.randint(0,2,3)\n",
    "print(\"First array:\")\n",
    "print(a)\n",
    "b = np.random.randint(0,2,3)\n",
    "print(\"Second array:\")\n",
    "print(b)\n",
    "print(\"Test if a and b the same\")\n",
    "array_same = np.allclose(a, b)\n",
    "print(array_same)\n"
   ]
  },
  {
   "cell_type": "code",
   "execution_count": null,
   "metadata": {},
   "outputs": [],
   "source": []
  }
 ],
 "metadata": {
  "kernelspec": {
   "display_name": "Python 3",
   "language": "python",
   "name": "python3"
  },
  "language_info": {
   "codemirror_mode": {
    "name": "ipython",
    "version": 3
   },
   "file_extension": ".py",
   "mimetype": "text/x-python",
   "name": "python",
   "nbconvert_exporter": "python",
   "pygments_lexer": "ipython3",
   "version": "3.8.8-final"
  }
 },
 "nbformat": 4,
 "nbformat_minor": 5
}