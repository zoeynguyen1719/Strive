{
 "cells": [
  {
   "cell_type": "code",
   "execution_count": 7,
   "id": "biological-worcester",
   "metadata": {},
   "outputs": [],
   "source": [
    "# Import the needed libraries\n",
    "import numpy as np"
   ]
  },
  {
   "cell_type": "markdown",
   "id": "champion-greensboro",
   "metadata": {},
   "source": [
    "**13. Create a 10x10 array with random values and find the minimum and maximum values**"
   ]
  },
  {
   "source": [],
   "cell_type": "markdown",
   "metadata": {}
  },
  {
   "cell_type": "code",
   "execution_count": null,
   "metadata": {},
   "outputs": [],
   "source": []
  },
  {
   "cell_type": "code",
   "execution_count": 14,
   "id": "joint-explorer",
   "metadata": {},
   "outputs": [
    {
     "output_type": "stream",
     "name": "stdout",
     "text": [
      "[[ 1.35962093  0.11595127  0.09726012  0.50145301 -3.26464382 -0.67818566\n   1.09560504  0.43091413  0.82459975 -0.47042221]\n [ 0.17947061  0.17612386  1.24085133 -0.90855188 -0.96045897  1.70075205\n   0.27024184 -0.25578869 -0.27407311  0.01335923]\n [ 0.10011985 -0.53557392  0.9737108  -0.31101195  1.09715853  0.36106444\n  -1.41178104  1.43260641  0.76012931 -0.36188953]\n [ 0.25865794 -1.00497389 -0.54781217 -0.82187779 -0.92768318 -0.28824761\n  -0.5531973   0.13225808  0.6569992  -0.02392002]\n [ 0.45071079  1.15339418  1.13628937  0.33545883  0.5788474   1.91566254\n  -0.96603547 -0.1016561   1.61624333 -0.22234064]\n [ 0.26986163 -1.5678975   1.23979473  1.26688921  0.29396709 -0.95107753\n   1.94682482 -0.68192963  0.37116919  0.81097072]\n [-0.07851621  0.17707644  1.18185623 -2.04317488 -1.20514759 -0.18202212\n  -0.95781128  0.68540727  0.06744744 -0.66222378]\n [ 0.70968998 -0.63271908 -0.27965894 -0.05749238  0.88033284  0.00371515\n  -1.66878228 -0.2656936   1.77199854  0.40994472]\n [ 0.61235388 -1.32158038  0.03428862  1.32313069  1.14565789 -0.51731996\n  -1.57914419  0.19569464 -0.64994466  0.43742525]\n [ 0.17888841 -0.65297257  2.16233418  0.48433525 -0.37494257 -0.19428865\n  -0.63700837 -1.55412575  1.99707779 -1.28830185]]\n-3.264643819187461\n2.1623341780915664\n"
     ]
    }
   ],
   "source": [
    "array = np.random.normal(size=(10, 10))\n",
    "print(array)\n",
    "amin, amax = array.min(), array.max()\n",
    "print(amin)\n",
    "print(amax)"
   ]
  },
  {
   "cell_type": "markdown",
   "id": "exempt-organ",
   "metadata": {},
   "source": [
    "**15. Create a 2d array with 1 on the border and 0 inside**"
   ]
  },
  {
   "cell_type": "code",
   "execution_count": 10,
   "id": "sufficient-facility",
   "metadata": {},
   "outputs": [],
   "source": [
    "array2 = np.array([[1, 0], [1, 0]])"
   ]
  },
  {
   "cell_type": "code",
   "execution_count": null,
   "metadata": {},
   "outputs": [],
   "source": []
  }
 ],
 "metadata": {
  "kernelspec": {
   "display_name": "Python 3",
   "language": "python",
   "name": "python3"
  },
  "language_info": {
   "codemirror_mode": {
    "name": "ipython",
    "version": 3
   },
   "file_extension": ".py",
   "mimetype": "text/x-python",
   "name": "python",
   "nbconvert_exporter": "python",
   "pygments_lexer": "ipython3",
   "version": "3.8.8-final"
  }
 },
 "nbformat": 4,
 "nbformat_minor": 5
}