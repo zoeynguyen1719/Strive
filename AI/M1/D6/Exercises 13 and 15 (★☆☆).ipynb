{
 "cells": [
  {
   "cell_type": "code",
   "execution_count": 7,
   "id": "biological-worcester",
   "metadata": {},
   "outputs": [],
   "source": [
    "# Import the needed libraries\n",
    "import numpy as np"
   ]
  },
  {
   "cell_type": "markdown",
   "id": "champion-greensboro",
   "metadata": {},
   "source": [
    "**13. Create a 10x10 array with random values and find the minimum and maximum values**"
   ]
  },
  {
   "cell_type": "code",
   "execution_count": 9,
   "id": "joint-explorer",
   "metadata": {},
   "outputs": [
    {
     "output_type": "execute_result",
     "data": {
      "text/plain": [
       "array([[ 0.14776725, -1.11188131, -1.46008765,  0.96324521, -0.72334567,\n",
       "        -0.3976644 , -0.48303389, -0.19867485,  0.43665029, -0.9190802 ],\n",
       "       [-0.63336216,  1.92698711, -0.07472512,  0.68986902,  1.46569353,\n",
       "        -0.94774387,  0.1651257 , -0.58993495, -0.92954862, -0.52785661],\n",
       "       [-1.42214629, -0.27137153,  1.59076921, -1.25234602, -0.62626477,\n",
       "         2.10261053, -1.55178473,  1.58789229,  1.13720842,  0.62476101],\n",
       "       [ 0.77538182,  1.02365902,  0.47164269, -1.33467858,  1.1813134 ,\n",
       "        -0.66787725,  1.38270134, -1.32352413,  0.73593479, -0.90061732],\n",
       "       [-0.34118521,  2.35344872, -1.0676559 , -0.46159397, -0.25574688,\n",
       "         0.25960398,  0.20476721, -0.59748217,  0.25789286,  0.30142021],\n",
       "       [-0.99045655, -0.7538154 ,  0.23442707, -0.71655351,  0.1039507 ,\n",
       "         0.40590461,  0.63529669,  0.10210374, -0.23695128,  0.64214382],\n",
       "       [-1.23087638, -1.01137893,  0.37896856,  1.29266751,  0.22634158,\n",
       "         1.62002083, -0.70510249, -0.76423182, -0.36281851,  1.24655766],\n",
       "       [-0.06047814,  0.06049212,  1.51382404,  0.00820682, -0.11390616,\n",
       "        -0.60095472,  0.41045604, -2.19949216,  0.2890564 ,  0.31910267],\n",
       "       [ 1.23646366,  0.87147937,  0.72453428, -0.40996045, -1.43804563,\n",
       "         0.04309633, -1.62584717,  0.4400424 , -0.35194695,  1.37951974],\n",
       "       [ 1.53304702, -1.15868879,  1.13860522,  0.32884654, -1.50124496,\n",
       "        -0.32667149, -0.05929682,  0.58897671, -1.37896028,  0.03266902]])"
      ]
     },
     "metadata": {},
     "execution_count": 9
    }
   ],
   "source": [
    "array = np.random.normal(size=(10, 10))"
   ]
  },
  {
   "cell_type": "markdown",
   "id": "exempt-organ",
   "metadata": {},
   "source": [
    "**15. Create a 2d array with 1 on the border and 0 inside**"
   ]
  },
  {
   "cell_type": "code",
   "execution_count": 10,
   "id": "sufficient-facility",
   "metadata": {},
   "outputs": [],
   "source": [
    "array2 = np.array([[1, 0], [1, 0]])"
   ]
  },
  {
   "cell_type": "code",
   "execution_count": null,
   "metadata": {},
   "outputs": [],
   "source": []
  }
 ],
 "metadata": {
  "kernelspec": {
   "display_name": "Python 3",
   "language": "python",
   "name": "python3"
  },
  "language_info": {
   "codemirror_mode": {
    "name": "ipython",
    "version": 3
   },
   "file_extension": ".py",
   "mimetype": "text/x-python",
   "name": "python",
   "nbconvert_exporter": "python",
   "pygments_lexer": "ipython3",
   "version": "3.8.8-final"
  }
 },
 "nbformat": 4,
 "nbformat_minor": 5
}