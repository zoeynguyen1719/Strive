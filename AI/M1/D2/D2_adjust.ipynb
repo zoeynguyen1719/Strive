{
 "metadata": {
  "language_info": {
   "codemirror_mode": {
    "name": "ipython",
    "version": 3
   },
   "file_extension": ".py",
   "mimetype": "text/x-python",
   "name": "python",
   "nbconvert_exporter": "python",
   "pygments_lexer": "ipython3",
   "version": "3.8.8-final"
  },
  "orig_nbformat": 2,
  "kernelspec": {
   "name": "python3",
   "display_name": "Python 3.8.8 64-bit ('Strive School Python': conda)",
   "metadata": {
    "interpreter": {
     "hash": "def8925adf3309a6b2478d5a2890677bdefd255508f027e8aef340bbfd6f9cf1"
    }
   }
  }
 },
 "nbformat": 4,
 "nbformat_minor": 2,
 "cells": [
  {
   "cell_type": "code",
   "execution_count": 1,
   "metadata": {},
   "outputs": [],
   "source": [
    "#Exercise 5.8\n",
    "def nested_nest():\n",
    "    x = range(0, 9)\n",
    "    y = range(1, 9)\n",
    "    result = 1000 * A + 100 * B + 10 * C + D\n",
    "    fourResult = 4 * (1000 * D + 100 * C + 10 * B + A)\n",
    "    for A in y:\n",
    "        for B in x:\n",
    "            for C in x:\n",
    "                for D in y:\n",
    "                    if result == fourResult:\n",
    "                        print(A, B, C, D)\n",
    "\n"
   ]
  },
  {
   "cell_type": "code",
   "execution_count": null,
   "metadata": {},
   "outputs": [],
   "source": [
    "#Exercise 5.6\n",
    "def prime_number():\n",
    "    prime = [2, 3, 5, 7, 11, 13, 17, 19, 23, 29]"
   ]
  }
 ]
}