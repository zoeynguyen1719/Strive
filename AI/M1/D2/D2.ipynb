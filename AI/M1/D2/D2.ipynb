#Exercise 5.8
def nested_nest():
    x = range(0, 9)
    y = range(1, 9)
    result = 1000 * A + 100 * B + 10 * C + D
    fourResult = 4 * (1000 * D + 100 * C + 10 * B + A)
    for A in y:
        for B in x:
            for C in x:
                for D in y:
                    if result == fourResult:
                        print(A, B, C, D)

