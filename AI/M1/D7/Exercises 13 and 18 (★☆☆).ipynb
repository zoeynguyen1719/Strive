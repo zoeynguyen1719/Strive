{
 "cells": [
  {
   "cell_type": "code",
   "execution_count": 7,
   "id": "comic-license",
   "metadata": {},
   "outputs": [],
   "source": [
    "# import the needed libraries and datasets\n",
    "import pandas as pd\n",
    "import numpy as np\n",
    "data = {'animal': ['cat', 'cat', 'snake', 'dog', 'dog', 'cat', 'snake', 'cat', 'dog', 'dog'],\n",
    "        'age': [2.5, 3, 0.5, np.nan, 5, 2, 4.5, np.nan, 7, 3],\n",
    "        'visits': [1, 3, 2, 3, 2, 3, 1, 1, 2, 1],\n",
    "        'priority': ['yes', 'yes', 'no', 'yes', 'no', 'no', 'no', 'yes', 'no', 'no']}\n",
    "\n",
    "labels = ['a', 'b', 'c', 'd', 'e', 'f', 'g', 'h', 'i', 'j']"
   ]
  },
  {
   "cell_type": "markdown",
   "id": "after-lithuania",
   "metadata": {},
   "source": [
    "**13. Change the age in row 'f' to 1.5.**"
   ]
  },
  {
   "cell_type": "code",
   "execution_count": 10,
   "id": "supported-bicycle",
   "metadata": {},
   "outputs": [
    {
     "output_type": "stream",
     "name": "stdout",
     "text": [
      "  animal  age  visits priority\na    cat  2.5       1      yes\nb    cat  3.0       3      yes\nc  snake  0.5       2       no\nd    dog  NaN       3      yes\ne    dog  5.0       2       no\nf    cat  2.0       3       no\ng  snake  4.5       1       no\nh    cat  NaN       1      yes\ni    dog  7.0       2       no\nj    dog  3.0       1       no\n  animal  age  visits priority\na    cat  2.5       1      yes\nb    cat  3.0       3      yes\nc  snake  0.5       2       no\nd    dog  NaN       3      yes\ne    dog  5.0       2       no\nf    cat  1.5       3       no\ng  snake  4.5       1       no\nh    cat  NaN       1      yes\ni    dog  7.0       2       no\nj    dog  3.0       1       no\n"
     ]
    }
   ],
   "source": [
    "df = pd.DataFrame(data, index = labels)\n",
    "print(df)\n",
    "df.loc['f', 'age'] = 1.5\n",
    "print(df)"
   ]
  },
  {
   "cell_type": "markdown",
   "id": "severe-count",
   "metadata": {},
   "source": [
    "**18. Sort df first by the values in the 'age' in decending order, then by the value in the 'visit' column in ascending order.**"
   ]
  },
  {
   "cell_type": "code",
   "execution_count": 14,
   "id": "czech-superior",
   "metadata": {},
   "outputs": [
    {
     "output_type": "stream",
     "name": "stdout",
     "text": [
      "  animal  age  visits priority\na    cat  2.5       1      yes\nb    cat  3.0       3      yes\nc  snake  0.5       2       no\nd    dog  NaN       3      yes\ne    dog  5.0       2       no\nf    cat  1.5       3       no\ng  snake  4.5       1       no\nh    cat  NaN       1      yes\ni    dog  7.0       2       no\nj    dog  3.0       1       no\n"
     ]
    }
   ],
   "source": [
    "df.sort_values(by=['age', 'visits'], ascending=[False, True])\n",
    "print(df)"
   ]
  },
  {
   "cell_type": "code",
   "execution_count": null,
   "metadata": {},
   "outputs": [],
   "source": []
  }
 ],
 "metadata": {
  "kernelspec": {
   "display_name": "Python 3",
   "language": "python",
   "name": "python3"
  },
  "language_info": {
   "codemirror_mode": {
    "name": "ipython",
    "version": 3
   },
   "file_extension": ".py",
   "mimetype": "text/x-python",
   "name": "python",
   "nbconvert_exporter": "python",
   "pygments_lexer": "ipython3",
   "version": "3.8.8-final"
  }
 },
 "nbformat": 4,
 "nbformat_minor": 5
}