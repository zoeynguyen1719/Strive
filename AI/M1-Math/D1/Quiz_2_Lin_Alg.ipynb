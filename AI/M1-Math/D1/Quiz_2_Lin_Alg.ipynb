{
 "cells": [
  {
   "cell_type": "markdown",
   "metadata": {},
   "source": [
    "## Linear Algebra Quiz #2\n",
    "\n",
    "![title](./img/2_1.jpeg)\n",
    "\n",
    "We strongly suggest working with numpy :)"
   ]
  },
  {
   "cell_type": "code",
   "execution_count": null,
   "metadata": {},
   "outputs": [],
   "source": [
    "#Do your imports here"
   ]
  },
  {
   "cell_type": "markdown",
   "metadata": {},
   "source": [
    "![title](./img/2_2.png)\n",
    "- Which vectors below define a plane spanned by a linear combination?"
   ]
  },
  {
   "cell_type": "code",
   "execution_count": 1,
   "metadata": {},
   "outputs": [
    {
     "output_type": "error",
     "ename": "IndentationError",
     "evalue": "expected an indented block (<ipython-input-1-5e77bcbd0a31>, line 4)",
     "traceback": [
      "\u001b[1;36m  File \u001b[1;32m\"<ipython-input-1-5e77bcbd0a31>\"\u001b[1;36m, line \u001b[1;32m4\u001b[0m\n\u001b[1;33m    matrix = np.stack((a,b,c))\u001b[0m\n\u001b[1;37m    ^\u001b[0m\n\u001b[1;31mIndentationError\u001b[0m\u001b[1;31m:\u001b[0m expected an indented block\n"
     ]
    }
   ],
   "source": [
    "    def plane(a,b,c):\n",
    "    #returns false if the vectors do define a plane and returns which are those vectors if true\n",
    "\n",
    "    matrix = np.stack((a,b,c))\n",
    "\n",
    "    lambdas, V = np.linalg.eig(matrix.T)\n",
    "\n",
    "    e = 0.000000001\n",
    "\n",
    "    plane_test = abs(lambdas) > e \n",
    "\n",
    "    if plane_test.sum() >= 2:\n",
    "\n",
    "        print('Vectors form a plane!')\n",
    "\n",
    "        vectors = matrix[plane_test]\n",
    "        return vectors\n",
    "    else:\n",
    "        print('Vectors are all linearly dependent. No plane exists.')\n",
    "    #returns false if the vectors do define a plane and returns which are those vectors if true\n",
    "\n",
    "# Harder exercise\n",
    "\n",
    "def complete_plane(#inputs):\n",
    "    \n",
    "#returns the first set of vectors to complete a plane, false otherwise"
   ]
  },
  {
   "cell_type": "markdown",
   "metadata": {},
   "source": [
    "![title](./img/2_3.png)\n",
    "- What is the solution for a and b?"
   ]
  },
  {
   "cell_type": "code",
   "execution_count": null,
   "metadata": {},
   "outputs": [],
   "source": [
    "# do you need a function for this? What is the most efficient way to solve it?"
   ]
  },
  {
   "cell_type": "markdown",
   "metadata": {},
   "source": [
    "![title](./img/2_4.png)\n",
    "- What is the solution for a and b?"
   ]
  },
  {
   "cell_type": "code",
   "execution_count": null,
   "metadata": {},
   "outputs": [],
   "source": [
    "# Idem. Do you need a function for this? What is the most efficient way to solve it?"
   ]
  }
 ],
 "metadata": {
  "kernelspec": {
   "display_name": "Python 3",
   "language": "python",
   "name": "python3"
  },
  "language_info": {
   "codemirror_mode": {
    "name": "ipython",
    "version": 3
   },
   "file_extension": ".py",
   "mimetype": "text/x-python",
   "name": "python",
   "nbconvert_exporter": "python",
   "pygments_lexer": "ipython3",
   "version": "3.8.8"
  }
 },
 "nbformat": 4,
 "nbformat_minor": 2
}