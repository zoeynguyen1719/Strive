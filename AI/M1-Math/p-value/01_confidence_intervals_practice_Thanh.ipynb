{
 "cells": [
  {
   "cell_type": "markdown",
   "metadata": {},
   "source": [
    "# Practice notebook for confidence intervals using NHANES data\n",
    "\n",
    "This notebook will give you the opportunity to practice working with confidence intervals using the NHANES data.\n",
    "\n",
    "You can enter your code into the cells that say \"enter your code here\", and you can type responses to the questions into the cells that say \"Type Markdown and Latex\".\n",
    "\n",
    "Note that most of the code that you will need to write below is very similar to code that appears in the case study notebook.  You will need to edit code from that notebook in small ways to adapt it to the prompts below.\n",
    "\n",
    "To get started, we will use the same module imports and read the data in the same way as we did in the case study:"
   ]
  },
  {
   "cell_type": "code",
   "execution_count": 1,
   "metadata": {},
   "outputs": [],
   "source": [
    "%matplotlib inline\n",
    "import matplotlib.pyplot as plt\n",
    "import pandas as pd\n",
    "import numpy as np\n",
    "import seaborn as sns\n",
    "import statsmodels.api as sm\n",
    "\n",
    "da = pd.read_csv(\"nhanes_2015_2016.csv\")"
   ]
  },
  {
   "cell_type": "markdown",
   "metadata": {},
   "source": [
    "## Question 1\n",
    "\n",
    "Restrict the sample to women between 35 and 50, then use the marital status variable [DMDMARTL](https://wwwn.cdc.gov/Nchs/Nhanes/2015-2016/DEMO_I.htm#DMDMARTL) to partition this sample into two groups - women who are currently married, and women who are not currently married.  Within each of these groups, calculate the proportion of women who have completed college.  Calculate 95% confidence intervals for each of these proportions."
   ]
  },
  {
   "cell_type": "code",
   "execution_count": 4,
   "metadata": {},
   "outputs": [
    {
     "output_type": "stream",
     "name": "stdout",
     "text": [
      "<class 'pandas.core.frame.DataFrame'>\nRangeIndex: 5735 entries, 0 to 5734\nData columns (total 28 columns):\n #   Column    Non-Null Count  Dtype  \n---  ------    --------------  -----  \n 0   SEQN      5735 non-null   int64  \n 1   ALQ101    5208 non-null   float64\n 2   ALQ110    1731 non-null   float64\n 3   ALQ130    3379 non-null   float64\n 4   SMQ020    5735 non-null   int64  \n 5   RIAGENDR  5735 non-null   int64  \n 6   RIDAGEYR  5735 non-null   int64  \n 7   RIDRETH1  5735 non-null   int64  \n 8   DMDCITZN  5734 non-null   float64\n 9   DMDEDUC2  5474 non-null   float64\n 10  DMDMARTL  5474 non-null   float64\n 11  DMDHHSIZ  5735 non-null   int64  \n 12  WTINT2YR  5735 non-null   float64\n 13  SDMVPSU   5735 non-null   int64  \n 14  SDMVSTRA  5735 non-null   int64  \n 15  INDFMPIR  5134 non-null   float64\n 16  BPXSY1    5401 non-null   float64\n 17  BPXDI1    5401 non-null   float64\n 18  BPXSY2    5535 non-null   float64\n 19  BPXDI2    5535 non-null   float64\n 20  BMXWT     5666 non-null   float64\n 21  BMXHT     5673 non-null   float64\n 22  BMXBMI    5662 non-null   float64\n 23  BMXLEG    5345 non-null   float64\n 24  BMXARML   5427 non-null   float64\n 25  BMXARMC   5427 non-null   float64\n 26  BMXWAIST  5368 non-null   float64\n 27  HIQ210    4732 non-null   float64\ndtypes: float64(20), int64(8)\nmemory usage: 1.2 MB\n"
     ]
    }
   ],
   "source": [
    "da.info()"
   ]
  },
  {
   "cell_type": "code",
   "execution_count": 9,
   "metadata": {},
   "outputs": [
    {
     "output_type": "execute_result",
     "data": {
      "text/plain": [
       "       SEQN  ALQ101  ALQ110  ALQ130  SMQ020  RIAGENDR  RIDAGEYR  RIDRETH1  \\\n",
       "4     83736     2.0     1.0     1.0       2         2        42         4   \n",
       "34    83799     NaN     NaN     NaN       2         2        37         2   \n",
       "50    83828     1.0     NaN     2.0       2         2        39         1   \n",
       "52    83832     2.0     1.0     4.0       2         2        50         1   \n",
       "55    83837     2.0     2.0     NaN       2         2        45         1   \n",
       "...     ...     ...     ...     ...     ...       ...       ...       ...   \n",
       "5658  93568     1.0     NaN     1.0       1         2        46         3   \n",
       "5685  93612     2.0     2.0     NaN       2         2        36         5   \n",
       "5689  93619     NaN     NaN     NaN       2         2        44         5   \n",
       "5721  93676     1.0     NaN     2.0       2         2        35         4   \n",
       "5724  93682     NaN     NaN     NaN       2         2        41         5   \n",
       "\n",
       "      DMDCITZN  DMDEDUC2  ...  BPXSY2  BPXDI2  BMXWT  BMXHT  BMXBMI  BMXLEG  \\\n",
       "4          1.0       4.0  ...   114.0    54.0   55.2  164.9    20.3    37.4   \n",
       "34         1.0       4.0  ...   110.0    72.0   66.6  161.6    25.5     NaN   \n",
       "50         2.0       3.0  ...   100.0    62.0   71.3  162.0    27.2    36.8   \n",
       "52         2.0       1.0  ...     NaN     NaN  105.9  157.7    42.6    29.2   \n",
       "55         1.0       2.0  ...   114.0    68.0   77.5  148.3    35.2    30.5   \n",
       "...        ...       ...  ...     ...     ...    ...    ...     ...     ...   \n",
       "5658       1.0       2.0  ...   128.0    84.0   85.5  152.4    36.8    26.0   \n",
       "5685       1.0       5.0  ...   112.0    74.0   65.7  162.4    24.9    37.2   \n",
       "5689       2.0       2.0  ...   118.0    78.0   51.9  149.3    23.3    31.9   \n",
       "5721       1.0       5.0  ...   114.0    76.0   92.2  161.7    35.3    41.5   \n",
       "5724       1.0       5.0  ...   122.0    84.0   58.2  166.9    20.9    37.1   \n",
       "\n",
       "      BMXARML  BMXARMC  BMXWAIST  HIQ210  \n",
       "4        36.0     27.2      80.4     2.0  \n",
       "34        NaN      NaN       NaN     2.0  \n",
       "50       34.6     29.1      94.6     NaN  \n",
       "52       35.0     40.7     129.1     NaN  \n",
       "55       34.0     34.4     107.6     2.0  \n",
       "...       ...      ...       ...     ...  \n",
       "5658     33.5     34.7     116.5     2.0  \n",
       "5685     36.0     29.8      89.0     2.0  \n",
       "5689     32.0     26.2      81.4     1.0  \n",
       "5721     37.5     38.9     110.9     2.0  \n",
       "5724     35.3     26.9      80.8     2.0  \n",
       "\n",
       "[787 rows x 28 columns]"
      ],
      "text/html": "<div>\n<style scoped>\n    .dataframe tbody tr th:only-of-type {\n        vertical-align: middle;\n    }\n\n    .dataframe tbody tr th {\n        vertical-align: top;\n    }\n\n    .dataframe thead th {\n        text-align: right;\n    }\n</style>\n<table border=\"1\" class=\"dataframe\">\n  <thead>\n    <tr style=\"text-align: right;\">\n      <th></th>\n      <th>SEQN</th>\n      <th>ALQ101</th>\n      <th>ALQ110</th>\n      <th>ALQ130</th>\n      <th>SMQ020</th>\n      <th>RIAGENDR</th>\n      <th>RIDAGEYR</th>\n      <th>RIDRETH1</th>\n      <th>DMDCITZN</th>\n      <th>DMDEDUC2</th>\n      <th>...</th>\n      <th>BPXSY2</th>\n      <th>BPXDI2</th>\n      <th>BMXWT</th>\n      <th>BMXHT</th>\n      <th>BMXBMI</th>\n      <th>BMXLEG</th>\n      <th>BMXARML</th>\n      <th>BMXARMC</th>\n      <th>BMXWAIST</th>\n      <th>HIQ210</th>\n    </tr>\n  </thead>\n  <tbody>\n    <tr>\n      <th>4</th>\n      <td>83736</td>\n      <td>2.0</td>\n      <td>1.0</td>\n      <td>1.0</td>\n      <td>2</td>\n      <td>2</td>\n      <td>42</td>\n      <td>4</td>\n      <td>1.0</td>\n      <td>4.0</td>\n      <td>...</td>\n      <td>114.0</td>\n      <td>54.0</td>\n      <td>55.2</td>\n      <td>164.9</td>\n      <td>20.3</td>\n      <td>37.4</td>\n      <td>36.0</td>\n      <td>27.2</td>\n      <td>80.4</td>\n      <td>2.0</td>\n    </tr>\n    <tr>\n      <th>34</th>\n      <td>83799</td>\n      <td>NaN</td>\n      <td>NaN</td>\n      <td>NaN</td>\n      <td>2</td>\n      <td>2</td>\n      <td>37</td>\n      <td>2</td>\n      <td>1.0</td>\n      <td>4.0</td>\n      <td>...</td>\n      <td>110.0</td>\n      <td>72.0</td>\n      <td>66.6</td>\n      <td>161.6</td>\n      <td>25.5</td>\n      <td>NaN</td>\n      <td>NaN</td>\n      <td>NaN</td>\n      <td>NaN</td>\n      <td>2.0</td>\n    </tr>\n    <tr>\n      <th>50</th>\n      <td>83828</td>\n      <td>1.0</td>\n      <td>NaN</td>\n      <td>2.0</td>\n      <td>2</td>\n      <td>2</td>\n      <td>39</td>\n      <td>1</td>\n      <td>2.0</td>\n      <td>3.0</td>\n      <td>...</td>\n      <td>100.0</td>\n      <td>62.0</td>\n      <td>71.3</td>\n      <td>162.0</td>\n      <td>27.2</td>\n      <td>36.8</td>\n      <td>34.6</td>\n      <td>29.1</td>\n      <td>94.6</td>\n      <td>NaN</td>\n    </tr>\n    <tr>\n      <th>52</th>\n      <td>83832</td>\n      <td>2.0</td>\n      <td>1.0</td>\n      <td>4.0</td>\n      <td>2</td>\n      <td>2</td>\n      <td>50</td>\n      <td>1</td>\n      <td>2.0</td>\n      <td>1.0</td>\n      <td>...</td>\n      <td>NaN</td>\n      <td>NaN</td>\n      <td>105.9</td>\n      <td>157.7</td>\n      <td>42.6</td>\n      <td>29.2</td>\n      <td>35.0</td>\n      <td>40.7</td>\n      <td>129.1</td>\n      <td>NaN</td>\n    </tr>\n    <tr>\n      <th>55</th>\n      <td>83837</td>\n      <td>2.0</td>\n      <td>2.0</td>\n      <td>NaN</td>\n      <td>2</td>\n      <td>2</td>\n      <td>45</td>\n      <td>1</td>\n      <td>1.0</td>\n      <td>2.0</td>\n      <td>...</td>\n      <td>114.0</td>\n      <td>68.0</td>\n      <td>77.5</td>\n      <td>148.3</td>\n      <td>35.2</td>\n      <td>30.5</td>\n      <td>34.0</td>\n      <td>34.4</td>\n      <td>107.6</td>\n      <td>2.0</td>\n    </tr>\n    <tr>\n      <th>...</th>\n      <td>...</td>\n      <td>...</td>\n      <td>...</td>\n      <td>...</td>\n      <td>...</td>\n      <td>...</td>\n      <td>...</td>\n      <td>...</td>\n      <td>...</td>\n      <td>...</td>\n      <td>...</td>\n      <td>...</td>\n      <td>...</td>\n      <td>...</td>\n      <td>...</td>\n      <td>...</td>\n      <td>...</td>\n      <td>...</td>\n      <td>...</td>\n      <td>...</td>\n      <td>...</td>\n    </tr>\n    <tr>\n      <th>5658</th>\n      <td>93568</td>\n      <td>1.0</td>\n      <td>NaN</td>\n      <td>1.0</td>\n      <td>1</td>\n      <td>2</td>\n      <td>46</td>\n      <td>3</td>\n      <td>1.0</td>\n      <td>2.0</td>\n      <td>...</td>\n      <td>128.0</td>\n      <td>84.0</td>\n      <td>85.5</td>\n      <td>152.4</td>\n      <td>36.8</td>\n      <td>26.0</td>\n      <td>33.5</td>\n      <td>34.7</td>\n      <td>116.5</td>\n      <td>2.0</td>\n    </tr>\n    <tr>\n      <th>5685</th>\n      <td>93612</td>\n      <td>2.0</td>\n      <td>2.0</td>\n      <td>NaN</td>\n      <td>2</td>\n      <td>2</td>\n      <td>36</td>\n      <td>5</td>\n      <td>1.0</td>\n      <td>5.0</td>\n      <td>...</td>\n      <td>112.0</td>\n      <td>74.0</td>\n      <td>65.7</td>\n      <td>162.4</td>\n      <td>24.9</td>\n      <td>37.2</td>\n      <td>36.0</td>\n      <td>29.8</td>\n      <td>89.0</td>\n      <td>2.0</td>\n    </tr>\n    <tr>\n      <th>5689</th>\n      <td>93619</td>\n      <td>NaN</td>\n      <td>NaN</td>\n      <td>NaN</td>\n      <td>2</td>\n      <td>2</td>\n      <td>44</td>\n      <td>5</td>\n      <td>2.0</td>\n      <td>2.0</td>\n      <td>...</td>\n      <td>118.0</td>\n      <td>78.0</td>\n      <td>51.9</td>\n      <td>149.3</td>\n      <td>23.3</td>\n      <td>31.9</td>\n      <td>32.0</td>\n      <td>26.2</td>\n      <td>81.4</td>\n      <td>1.0</td>\n    </tr>\n    <tr>\n      <th>5721</th>\n      <td>93676</td>\n      <td>1.0</td>\n      <td>NaN</td>\n      <td>2.0</td>\n      <td>2</td>\n      <td>2</td>\n      <td>35</td>\n      <td>4</td>\n      <td>1.0</td>\n      <td>5.0</td>\n      <td>...</td>\n      <td>114.0</td>\n      <td>76.0</td>\n      <td>92.2</td>\n      <td>161.7</td>\n      <td>35.3</td>\n      <td>41.5</td>\n      <td>37.5</td>\n      <td>38.9</td>\n      <td>110.9</td>\n      <td>2.0</td>\n    </tr>\n    <tr>\n      <th>5724</th>\n      <td>93682</td>\n      <td>NaN</td>\n      <td>NaN</td>\n      <td>NaN</td>\n      <td>2</td>\n      <td>2</td>\n      <td>41</td>\n      <td>5</td>\n      <td>1.0</td>\n      <td>5.0</td>\n      <td>...</td>\n      <td>122.0</td>\n      <td>84.0</td>\n      <td>58.2</td>\n      <td>166.9</td>\n      <td>20.9</td>\n      <td>37.1</td>\n      <td>35.3</td>\n      <td>26.9</td>\n      <td>80.8</td>\n      <td>2.0</td>\n    </tr>\n  </tbody>\n</table>\n<p>787 rows × 28 columns</p>\n</div>"
     },
     "metadata": {},
     "execution_count": 9
    }
   ],
   "source": [
    "sample = (da['RIDAGEYR']).between(35,50, inclusive = True) & (da['RIAGENDR'] == 2)\r\n",
    "women = da[sample]\r\n",
    "women"
   ]
  },
  {
   "cell_type": "code",
   "execution_count": 17,
   "metadata": {},
   "outputs": [
    {
     "output_type": "execute_result",
     "data": {
      "text/plain": [
       "       SEQN  ALQ101  ALQ110  ALQ130  SMQ020  RIAGENDR  RIDAGEYR  RIDRETH1  \\\n",
       "34    83799     NaN     NaN     NaN       2         2        37         2   \n",
       "50    83828     1.0     NaN     2.0       2         2        39         1   \n",
       "55    83837     2.0     2.0     NaN       2         2        45         1   \n",
       "61    83851     2.0     1.0     1.0       1         2        37         3   \n",
       "62    83853     NaN     NaN     NaN       2         2        49         3   \n",
       "...     ...     ...     ...     ...     ...       ...       ...       ...   \n",
       "5609  93488     2.0     1.0     1.0       2         2        47         4   \n",
       "5627  93516     NaN     NaN     NaN       2         2        43         2   \n",
       "5685  93612     2.0     2.0     NaN       2         2        36         5   \n",
       "5689  93619     NaN     NaN     NaN       2         2        44         5   \n",
       "5724  93682     NaN     NaN     NaN       2         2        41         5   \n",
       "\n",
       "      DMDCITZN  DMDEDUC2  ...  BPXSY2  BPXDI2  BMXWT  BMXHT  BMXBMI  BMXLEG  \\\n",
       "34         1.0       4.0  ...   110.0    72.0   66.6  161.6    25.5     NaN   \n",
       "50         2.0       3.0  ...   100.0    62.0   71.3  162.0    27.2    36.8   \n",
       "55         1.0       2.0  ...   114.0    68.0   77.5  148.3    35.2    30.5   \n",
       "61         1.0       3.0  ...   122.0    74.0   85.1  155.3    35.3    32.5   \n",
       "62         1.0       3.0  ...   116.0    84.0   76.1  166.7    27.4    39.2   \n",
       "...        ...       ...  ...     ...     ...    ...    ...     ...     ...   \n",
       "5609       1.0       4.0  ...   104.0    66.0   57.9  158.0    23.2    37.2   \n",
       "5627       1.0       4.0  ...   124.0    78.0   82.7  165.3    30.3    38.8   \n",
       "5685       1.0       5.0  ...   112.0    74.0   65.7  162.4    24.9    37.2   \n",
       "5689       2.0       2.0  ...   118.0    78.0   51.9  149.3    23.3    31.9   \n",
       "5724       1.0       5.0  ...   122.0    84.0   58.2  166.9    20.9    37.1   \n",
       "\n",
       "      BMXARML  BMXARMC  BMXWAIST  HIQ210  \n",
       "34        NaN      NaN       NaN     2.0  \n",
       "50       34.6     29.1      94.6     NaN  \n",
       "55       34.0     34.4     107.6     2.0  \n",
       "61       33.6     36.1     106.5     1.0  \n",
       "62       38.6     32.6      88.7     2.0  \n",
       "...       ...      ...       ...     ...  \n",
       "5609     36.0     28.1      79.4     2.0  \n",
       "5627     38.8     32.2     102.2     NaN  \n",
       "5685     36.0     29.8      89.0     2.0  \n",
       "5689     32.0     26.2      81.4     1.0  \n",
       "5724     35.3     26.9      80.8     2.0  \n",
       "\n",
       "[449 rows x 28 columns]"
      ],
      "text/html": "<div>\n<style scoped>\n    .dataframe tbody tr th:only-of-type {\n        vertical-align: middle;\n    }\n\n    .dataframe tbody tr th {\n        vertical-align: top;\n    }\n\n    .dataframe thead th {\n        text-align: right;\n    }\n</style>\n<table border=\"1\" class=\"dataframe\">\n  <thead>\n    <tr style=\"text-align: right;\">\n      <th></th>\n      <th>SEQN</th>\n      <th>ALQ101</th>\n      <th>ALQ110</th>\n      <th>ALQ130</th>\n      <th>SMQ020</th>\n      <th>RIAGENDR</th>\n      <th>RIDAGEYR</th>\n      <th>RIDRETH1</th>\n      <th>DMDCITZN</th>\n      <th>DMDEDUC2</th>\n      <th>...</th>\n      <th>BPXSY2</th>\n      <th>BPXDI2</th>\n      <th>BMXWT</th>\n      <th>BMXHT</th>\n      <th>BMXBMI</th>\n      <th>BMXLEG</th>\n      <th>BMXARML</th>\n      <th>BMXARMC</th>\n      <th>BMXWAIST</th>\n      <th>HIQ210</th>\n    </tr>\n  </thead>\n  <tbody>\n    <tr>\n      <th>34</th>\n      <td>83799</td>\n      <td>NaN</td>\n      <td>NaN</td>\n      <td>NaN</td>\n      <td>2</td>\n      <td>2</td>\n      <td>37</td>\n      <td>2</td>\n      <td>1.0</td>\n      <td>4.0</td>\n      <td>...</td>\n      <td>110.0</td>\n      <td>72.0</td>\n      <td>66.6</td>\n      <td>161.6</td>\n      <td>25.5</td>\n      <td>NaN</td>\n      <td>NaN</td>\n      <td>NaN</td>\n      <td>NaN</td>\n      <td>2.0</td>\n    </tr>\n    <tr>\n      <th>50</th>\n      <td>83828</td>\n      <td>1.0</td>\n      <td>NaN</td>\n      <td>2.0</td>\n      <td>2</td>\n      <td>2</td>\n      <td>39</td>\n      <td>1</td>\n      <td>2.0</td>\n      <td>3.0</td>\n      <td>...</td>\n      <td>100.0</td>\n      <td>62.0</td>\n      <td>71.3</td>\n      <td>162.0</td>\n      <td>27.2</td>\n      <td>36.8</td>\n      <td>34.6</td>\n      <td>29.1</td>\n      <td>94.6</td>\n      <td>NaN</td>\n    </tr>\n    <tr>\n      <th>55</th>\n      <td>83837</td>\n      <td>2.0</td>\n      <td>2.0</td>\n      <td>NaN</td>\n      <td>2</td>\n      <td>2</td>\n      <td>45</td>\n      <td>1</td>\n      <td>1.0</td>\n      <td>2.0</td>\n      <td>...</td>\n      <td>114.0</td>\n      <td>68.0</td>\n      <td>77.5</td>\n      <td>148.3</td>\n      <td>35.2</td>\n      <td>30.5</td>\n      <td>34.0</td>\n      <td>34.4</td>\n      <td>107.6</td>\n      <td>2.0</td>\n    </tr>\n    <tr>\n      <th>61</th>\n      <td>83851</td>\n      <td>2.0</td>\n      <td>1.0</td>\n      <td>1.0</td>\n      <td>1</td>\n      <td>2</td>\n      <td>37</td>\n      <td>3</td>\n      <td>1.0</td>\n      <td>3.0</td>\n      <td>...</td>\n      <td>122.0</td>\n      <td>74.0</td>\n      <td>85.1</td>\n      <td>155.3</td>\n      <td>35.3</td>\n      <td>32.5</td>\n      <td>33.6</td>\n      <td>36.1</td>\n      <td>106.5</td>\n      <td>1.0</td>\n    </tr>\n    <tr>\n      <th>62</th>\n      <td>83853</td>\n      <td>NaN</td>\n      <td>NaN</td>\n      <td>NaN</td>\n      <td>2</td>\n      <td>2</td>\n      <td>49</td>\n      <td>3</td>\n      <td>1.0</td>\n      <td>3.0</td>\n      <td>...</td>\n      <td>116.0</td>\n      <td>84.0</td>\n      <td>76.1</td>\n      <td>166.7</td>\n      <td>27.4</td>\n      <td>39.2</td>\n      <td>38.6</td>\n      <td>32.6</td>\n      <td>88.7</td>\n      <td>2.0</td>\n    </tr>\n    <tr>\n      <th>...</th>\n      <td>...</td>\n      <td>...</td>\n      <td>...</td>\n      <td>...</td>\n      <td>...</td>\n      <td>...</td>\n      <td>...</td>\n      <td>...</td>\n      <td>...</td>\n      <td>...</td>\n      <td>...</td>\n      <td>...</td>\n      <td>...</td>\n      <td>...</td>\n      <td>...</td>\n      <td>...</td>\n      <td>...</td>\n      <td>...</td>\n      <td>...</td>\n      <td>...</td>\n      <td>...</td>\n    </tr>\n    <tr>\n      <th>5609</th>\n      <td>93488</td>\n      <td>2.0</td>\n      <td>1.0</td>\n      <td>1.0</td>\n      <td>2</td>\n      <td>2</td>\n      <td>47</td>\n      <td>4</td>\n      <td>1.0</td>\n      <td>4.0</td>\n      <td>...</td>\n      <td>104.0</td>\n      <td>66.0</td>\n      <td>57.9</td>\n      <td>158.0</td>\n      <td>23.2</td>\n      <td>37.2</td>\n      <td>36.0</td>\n      <td>28.1</td>\n      <td>79.4</td>\n      <td>2.0</td>\n    </tr>\n    <tr>\n      <th>5627</th>\n      <td>93516</td>\n      <td>NaN</td>\n      <td>NaN</td>\n      <td>NaN</td>\n      <td>2</td>\n      <td>2</td>\n      <td>43</td>\n      <td>2</td>\n      <td>1.0</td>\n      <td>4.0</td>\n      <td>...</td>\n      <td>124.0</td>\n      <td>78.0</td>\n      <td>82.7</td>\n      <td>165.3</td>\n      <td>30.3</td>\n      <td>38.8</td>\n      <td>38.8</td>\n      <td>32.2</td>\n      <td>102.2</td>\n      <td>NaN</td>\n    </tr>\n    <tr>\n      <th>5685</th>\n      <td>93612</td>\n      <td>2.0</td>\n      <td>2.0</td>\n      <td>NaN</td>\n      <td>2</td>\n      <td>2</td>\n      <td>36</td>\n      <td>5</td>\n      <td>1.0</td>\n      <td>5.0</td>\n      <td>...</td>\n      <td>112.0</td>\n      <td>74.0</td>\n      <td>65.7</td>\n      <td>162.4</td>\n      <td>24.9</td>\n      <td>37.2</td>\n      <td>36.0</td>\n      <td>29.8</td>\n      <td>89.0</td>\n      <td>2.0</td>\n    </tr>\n    <tr>\n      <th>5689</th>\n      <td>93619</td>\n      <td>NaN</td>\n      <td>NaN</td>\n      <td>NaN</td>\n      <td>2</td>\n      <td>2</td>\n      <td>44</td>\n      <td>5</td>\n      <td>2.0</td>\n      <td>2.0</td>\n      <td>...</td>\n      <td>118.0</td>\n      <td>78.0</td>\n      <td>51.9</td>\n      <td>149.3</td>\n      <td>23.3</td>\n      <td>31.9</td>\n      <td>32.0</td>\n      <td>26.2</td>\n      <td>81.4</td>\n      <td>1.0</td>\n    </tr>\n    <tr>\n      <th>5724</th>\n      <td>93682</td>\n      <td>NaN</td>\n      <td>NaN</td>\n      <td>NaN</td>\n      <td>2</td>\n      <td>2</td>\n      <td>41</td>\n      <td>5</td>\n      <td>1.0</td>\n      <td>5.0</td>\n      <td>...</td>\n      <td>122.0</td>\n      <td>84.0</td>\n      <td>58.2</td>\n      <td>166.9</td>\n      <td>20.9</td>\n      <td>37.1</td>\n      <td>35.3</td>\n      <td>26.9</td>\n      <td>80.8</td>\n      <td>2.0</td>\n    </tr>\n  </tbody>\n</table>\n<p>449 rows × 28 columns</p>\n</div>"
     },
     "metadata": {},
     "execution_count": 17
    }
   ],
   "source": [
    "#married status\n",
    "married_women = women[(women['DMDMARTL'] == 1)]\n",
    "married_women\n"
   ]
  },
  {
   "cell_type": "code",
   "execution_count": 18,
   "metadata": {},
   "outputs": [
    {
     "output_type": "execute_result",
     "data": {
      "text/plain": [
       "       SEQN  ALQ101  ALQ110  ALQ130  SMQ020  RIAGENDR  RIDAGEYR  RIDRETH1  \\\n",
       "4     83736     2.0     1.0     1.0       2         2        42         4   \n",
       "52    83832     2.0     1.0     4.0       2         2        50         1   \n",
       "58    83845     1.0     NaN     NaN       1         2        44         4   \n",
       "100   83911     1.0     NaN     1.0       2         2        43         4   \n",
       "127   83958     2.0     1.0     2.0       1         2        47         4   \n",
       "...     ...     ...     ...     ...     ...       ...       ...       ...   \n",
       "5559  93386     1.0     NaN     2.0       2         2        50         4   \n",
       "5582  93434     1.0     NaN     1.0       1         2        36         4   \n",
       "5623  93511     2.0     2.0     NaN       2         2        40         4   \n",
       "5658  93568     1.0     NaN     1.0       1         2        46         3   \n",
       "5721  93676     1.0     NaN     2.0       2         2        35         4   \n",
       "\n",
       "      DMDCITZN  DMDEDUC2  ...  BPXSY2  BPXDI2  BMXWT  BMXHT  BMXBMI  BMXLEG  \\\n",
       "4          1.0       4.0  ...   114.0    54.0   55.2  164.9    20.3    37.4   \n",
       "52         2.0       1.0  ...     NaN     NaN  105.9  157.7    42.6    29.2   \n",
       "58         1.0       1.0  ...   116.0    78.0  133.3  171.5    45.3    37.3   \n",
       "100        1.0       4.0  ...   126.0    76.0   91.1  172.3    30.7    40.4   \n",
       "127        1.0       3.0  ...   148.0    76.0   58.6  160.6    22.7    36.8   \n",
       "...        ...       ...  ...     ...     ...    ...    ...     ...     ...   \n",
       "5559       1.0       4.0  ...   134.0    84.0   91.3  160.5    35.4    43.0   \n",
       "5582       1.0       3.0  ...   126.0    70.0   58.3  162.5    22.1    37.6   \n",
       "5623       1.0       3.0  ...   148.0   108.0   98.8  167.3    35.3    37.6   \n",
       "5658       1.0       2.0  ...   128.0    84.0   85.5  152.4    36.8    26.0   \n",
       "5721       1.0       5.0  ...   114.0    76.0   92.2  161.7    35.3    41.5   \n",
       "\n",
       "      BMXARML  BMXARMC  BMXWAIST  HIQ210  \n",
       "4        36.0     27.2      80.4     2.0  \n",
       "52       35.0     40.7     129.1     NaN  \n",
       "58       35.7     48.7       NaN     2.0  \n",
       "100      38.2     34.6     101.6     NaN  \n",
       "127      35.2     28.0      77.9     NaN  \n",
       "...       ...      ...       ...     ...  \n",
       "5559     38.5     40.0     112.9     2.0  \n",
       "5582     35.8     26.9      75.5     2.0  \n",
       "5623     38.5     44.6     129.7     1.0  \n",
       "5658     33.5     34.7     116.5     2.0  \n",
       "5721     37.5     38.9     110.9     2.0  \n",
       "\n",
       "[338 rows x 28 columns]"
      ],
      "text/html": "<div>\n<style scoped>\n    .dataframe tbody tr th:only-of-type {\n        vertical-align: middle;\n    }\n\n    .dataframe tbody tr th {\n        vertical-align: top;\n    }\n\n    .dataframe thead th {\n        text-align: right;\n    }\n</style>\n<table border=\"1\" class=\"dataframe\">\n  <thead>\n    <tr style=\"text-align: right;\">\n      <th></th>\n      <th>SEQN</th>\n      <th>ALQ101</th>\n      <th>ALQ110</th>\n      <th>ALQ130</th>\n      <th>SMQ020</th>\n      <th>RIAGENDR</th>\n      <th>RIDAGEYR</th>\n      <th>RIDRETH1</th>\n      <th>DMDCITZN</th>\n      <th>DMDEDUC2</th>\n      <th>...</th>\n      <th>BPXSY2</th>\n      <th>BPXDI2</th>\n      <th>BMXWT</th>\n      <th>BMXHT</th>\n      <th>BMXBMI</th>\n      <th>BMXLEG</th>\n      <th>BMXARML</th>\n      <th>BMXARMC</th>\n      <th>BMXWAIST</th>\n      <th>HIQ210</th>\n    </tr>\n  </thead>\n  <tbody>\n    <tr>\n      <th>4</th>\n      <td>83736</td>\n      <td>2.0</td>\n      <td>1.0</td>\n      <td>1.0</td>\n      <td>2</td>\n      <td>2</td>\n      <td>42</td>\n      <td>4</td>\n      <td>1.0</td>\n      <td>4.0</td>\n      <td>...</td>\n      <td>114.0</td>\n      <td>54.0</td>\n      <td>55.2</td>\n      <td>164.9</td>\n      <td>20.3</td>\n      <td>37.4</td>\n      <td>36.0</td>\n      <td>27.2</td>\n      <td>80.4</td>\n      <td>2.0</td>\n    </tr>\n    <tr>\n      <th>52</th>\n      <td>83832</td>\n      <td>2.0</td>\n      <td>1.0</td>\n      <td>4.0</td>\n      <td>2</td>\n      <td>2</td>\n      <td>50</td>\n      <td>1</td>\n      <td>2.0</td>\n      <td>1.0</td>\n      <td>...</td>\n      <td>NaN</td>\n      <td>NaN</td>\n      <td>105.9</td>\n      <td>157.7</td>\n      <td>42.6</td>\n      <td>29.2</td>\n      <td>35.0</td>\n      <td>40.7</td>\n      <td>129.1</td>\n      <td>NaN</td>\n    </tr>\n    <tr>\n      <th>58</th>\n      <td>83845</td>\n      <td>1.0</td>\n      <td>NaN</td>\n      <td>NaN</td>\n      <td>1</td>\n      <td>2</td>\n      <td>44</td>\n      <td>4</td>\n      <td>1.0</td>\n      <td>1.0</td>\n      <td>...</td>\n      <td>116.0</td>\n      <td>78.0</td>\n      <td>133.3</td>\n      <td>171.5</td>\n      <td>45.3</td>\n      <td>37.3</td>\n      <td>35.7</td>\n      <td>48.7</td>\n      <td>NaN</td>\n      <td>2.0</td>\n    </tr>\n    <tr>\n      <th>100</th>\n      <td>83911</td>\n      <td>1.0</td>\n      <td>NaN</td>\n      <td>1.0</td>\n      <td>2</td>\n      <td>2</td>\n      <td>43</td>\n      <td>4</td>\n      <td>1.0</td>\n      <td>4.0</td>\n      <td>...</td>\n      <td>126.0</td>\n      <td>76.0</td>\n      <td>91.1</td>\n      <td>172.3</td>\n      <td>30.7</td>\n      <td>40.4</td>\n      <td>38.2</td>\n      <td>34.6</td>\n      <td>101.6</td>\n      <td>NaN</td>\n    </tr>\n    <tr>\n      <th>127</th>\n      <td>83958</td>\n      <td>2.0</td>\n      <td>1.0</td>\n      <td>2.0</td>\n      <td>1</td>\n      <td>2</td>\n      <td>47</td>\n      <td>4</td>\n      <td>1.0</td>\n      <td>3.0</td>\n      <td>...</td>\n      <td>148.0</td>\n      <td>76.0</td>\n      <td>58.6</td>\n      <td>160.6</td>\n      <td>22.7</td>\n      <td>36.8</td>\n      <td>35.2</td>\n      <td>28.0</td>\n      <td>77.9</td>\n      <td>NaN</td>\n    </tr>\n    <tr>\n      <th>...</th>\n      <td>...</td>\n      <td>...</td>\n      <td>...</td>\n      <td>...</td>\n      <td>...</td>\n      <td>...</td>\n      <td>...</td>\n      <td>...</td>\n      <td>...</td>\n      <td>...</td>\n      <td>...</td>\n      <td>...</td>\n      <td>...</td>\n      <td>...</td>\n      <td>...</td>\n      <td>...</td>\n      <td>...</td>\n      <td>...</td>\n      <td>...</td>\n      <td>...</td>\n      <td>...</td>\n    </tr>\n    <tr>\n      <th>5559</th>\n      <td>93386</td>\n      <td>1.0</td>\n      <td>NaN</td>\n      <td>2.0</td>\n      <td>2</td>\n      <td>2</td>\n      <td>50</td>\n      <td>4</td>\n      <td>1.0</td>\n      <td>4.0</td>\n      <td>...</td>\n      <td>134.0</td>\n      <td>84.0</td>\n      <td>91.3</td>\n      <td>160.5</td>\n      <td>35.4</td>\n      <td>43.0</td>\n      <td>38.5</td>\n      <td>40.0</td>\n      <td>112.9</td>\n      <td>2.0</td>\n    </tr>\n    <tr>\n      <th>5582</th>\n      <td>93434</td>\n      <td>1.0</td>\n      <td>NaN</td>\n      <td>1.0</td>\n      <td>1</td>\n      <td>2</td>\n      <td>36</td>\n      <td>4</td>\n      <td>1.0</td>\n      <td>3.0</td>\n      <td>...</td>\n      <td>126.0</td>\n      <td>70.0</td>\n      <td>58.3</td>\n      <td>162.5</td>\n      <td>22.1</td>\n      <td>37.6</td>\n      <td>35.8</td>\n      <td>26.9</td>\n      <td>75.5</td>\n      <td>2.0</td>\n    </tr>\n    <tr>\n      <th>5623</th>\n      <td>93511</td>\n      <td>2.0</td>\n      <td>2.0</td>\n      <td>NaN</td>\n      <td>2</td>\n      <td>2</td>\n      <td>40</td>\n      <td>4</td>\n      <td>1.0</td>\n      <td>3.0</td>\n      <td>...</td>\n      <td>148.0</td>\n      <td>108.0</td>\n      <td>98.8</td>\n      <td>167.3</td>\n      <td>35.3</td>\n      <td>37.6</td>\n      <td>38.5</td>\n      <td>44.6</td>\n      <td>129.7</td>\n      <td>1.0</td>\n    </tr>\n    <tr>\n      <th>5658</th>\n      <td>93568</td>\n      <td>1.0</td>\n      <td>NaN</td>\n      <td>1.0</td>\n      <td>1</td>\n      <td>2</td>\n      <td>46</td>\n      <td>3</td>\n      <td>1.0</td>\n      <td>2.0</td>\n      <td>...</td>\n      <td>128.0</td>\n      <td>84.0</td>\n      <td>85.5</td>\n      <td>152.4</td>\n      <td>36.8</td>\n      <td>26.0</td>\n      <td>33.5</td>\n      <td>34.7</td>\n      <td>116.5</td>\n      <td>2.0</td>\n    </tr>\n    <tr>\n      <th>5721</th>\n      <td>93676</td>\n      <td>1.0</td>\n      <td>NaN</td>\n      <td>2.0</td>\n      <td>2</td>\n      <td>2</td>\n      <td>35</td>\n      <td>4</td>\n      <td>1.0</td>\n      <td>5.0</td>\n      <td>...</td>\n      <td>114.0</td>\n      <td>76.0</td>\n      <td>92.2</td>\n      <td>161.7</td>\n      <td>35.3</td>\n      <td>41.5</td>\n      <td>37.5</td>\n      <td>38.9</td>\n      <td>110.9</td>\n      <td>2.0</td>\n    </tr>\n  </tbody>\n</table>\n<p>338 rows × 28 columns</p>\n</div>"
     },
     "metadata": {},
     "execution_count": 18
    }
   ],
   "source": [
    "\n",
    "notmarried_women = women[~(women['DMDMARTL'] == 1)]\n",
    "notmarried_women\n"
   ]
  },
  {
   "cell_type": "code",
   "execution_count": 22,
   "metadata": {},
   "outputs": [
    {
     "output_type": "execute_result",
     "data": {
      "text/plain": [
       "0.36080178173719374"
      ]
     },
     "metadata": {},
     "execution_count": 22
    }
   ],
   "source": [
    "married_college = married_women[(married_women['DMDEDUC2'] == 5)]\n",
    "married_college\n",
    "percentage_married_college = len(married_college)/len(married_women)\n",
    "percentage_married_college"
   ]
  },
  {
   "cell_type": "code",
   "execution_count": 23,
   "metadata": {},
   "outputs": [
    {
     "output_type": "execute_result",
     "data": {
      "text/plain": [
       "0.21301775147928995"
      ]
     },
     "metadata": {},
     "execution_count": 23
    }
   ],
   "source": [
    "notmarried_college = notmarried_women[(notmarried_women['DMDEDUC2'] == 5)]\n",
    "notmarried_college\n",
    "percentage_notmarried_college = len(notmarried_college)/len(notmarried_women)\n",
    "percentage_notmarried_college"
   ]
  },
  {
   "cell_type": "markdown",
   "metadata": {},
   "source": [
    "__Q1a.__ Identify which of the two confidence intervals is wider, and explain why this is the case. "
   ]
  },
  {
   "cell_type": "markdown",
   "metadata": {},
   "source": []
  },
  {
   "cell_type": "markdown",
   "metadata": {},
   "source": [
    "__Q1b.__ Write 1-2 sentences summarizing these findings for an audience that does not know what a confidence interval is (the goal here is to report the substance of what you learned about how marital status and educational attainment are related, not to teach a person what a confidence interval is)."
   ]
  },
  {
   "cell_type": "markdown",
   "metadata": {},
   "source": []
  },
  {
   "cell_type": "markdown",
   "metadata": {},
   "source": [
    "## Question 2\n",
    "\n",
    "Construct 95% confidence intervals for the proportion of smokers who are female, and for the proportion of smokers who are male.  Then construct a 95% confidence interval for the difference between these proportions."
   ]
  },
  {
   "cell_type": "code",
   "execution_count": null,
   "metadata": {},
   "outputs": [],
   "source": [
    "# enter your code here"
   ]
  },
  {
   "cell_type": "markdown",
   "metadata": {},
   "source": [
    "__Q2a.__ Discuss why it may be relevant to report the proportions of smokers who are female and male, and contrast this to reporting the proportions of males and females who smoke."
   ]
  },
  {
   "cell_type": "markdown",
   "metadata": {},
   "source": []
  },
  {
   "cell_type": "markdown",
   "metadata": {},
   "source": [
    "__Q2b.__ How does the width of the confidence interval for the difference of the two proportions compare to the widths of the confidence intervals for each proportion separately?"
   ]
  },
  {
   "cell_type": "markdown",
   "metadata": {},
   "source": []
  },
  {
   "cell_type": "markdown",
   "metadata": {},
   "source": [
    "## Question 3\n",
    "\n",
    "Construct a 95% interval for height ([BMXHT](https://wwwn.cdc.gov/Nchs/Nhanes/2015-2016/BMX_I.htm#BMXHT)) in centimeters.  Then convert height from centimeters to inches by dividing by 2.54, and construct a 95% confidence interval for height in inches.  Finally, convert the endpoints (the lower and upper confidence limits) of the confidence interval from inches to back to centimeters   "
   ]
  },
  {
   "cell_type": "code",
   "execution_count": null,
   "metadata": {},
   "outputs": [],
   "source": [
    "# enter your code here"
   ]
  },
  {
   "cell_type": "markdown",
   "metadata": {},
   "source": [
    "__Q3a.__ Describe how the confidence interval constructed in centimeters relates to the confidence interval constructed in inches."
   ]
  },
  {
   "cell_type": "markdown",
   "metadata": {},
   "source": []
  },
  {
   "cell_type": "markdown",
   "metadata": {},
   "source": [
    "## Question 4\n",
    "\n",
    "Partition the sample based on 10-year age bands, i.e. the resulting groups will consist of people with ages from 18-28, 29-38, etc. Construct 95% confidence intervals for the difference between the mean BMI for females and for males within each age band."
   ]
  },
  {
   "cell_type": "code",
   "execution_count": null,
   "metadata": {},
   "outputs": [],
   "source": [
    "# enter your code here"
   ]
  },
  {
   "cell_type": "markdown",
   "metadata": {},
   "source": [
    "__Q4a.__ How do the widths of these confidence intervals differ?  Provide an explanation for any substantial diferences in the confidence interval widths that you see."
   ]
  },
  {
   "cell_type": "markdown",
   "metadata": {},
   "source": []
  },
  {
   "cell_type": "markdown",
   "metadata": {},
   "source": [
    "## Question 5\n",
    "\n",
    "Construct a 95% confidence interval for the first and second systolic blood pressure measures, and for the difference between the first and second systolic blood pressure measurements within a subject."
   ]
  },
  {
   "cell_type": "code",
   "execution_count": null,
   "metadata": {},
   "outputs": [],
   "source": [
    "# enter code here"
   ]
  },
  {
   "cell_type": "markdown",
   "metadata": {},
   "source": [
    "__Q5a.__ Based on these confidence intervals, would you say that a difference of zero between the population mean values of the first and second systolic blood pressure measures is consistent with the data?"
   ]
  },
  {
   "cell_type": "markdown",
   "metadata": {},
   "source": []
  },
  {
   "cell_type": "markdown",
   "metadata": {},
   "source": [
    "\n",
    "__Q5b.__ Discuss how the width of the confidence interval for the within-subject difference compares to the widths of the confidence intervals for the first and second measures."
   ]
  },
  {
   "cell_type": "markdown",
   "metadata": {},
   "source": []
  },
  {
   "cell_type": "markdown",
   "metadata": {},
   "source": [
    "## Question 6\n",
    "\n",
    "Construct a 95% confidence interval for the mean difference between the average age of a smoker, and the average age of a non-smoker."
   ]
  },
  {
   "cell_type": "code",
   "execution_count": null,
   "metadata": {},
   "outputs": [],
   "source": [
    "# insert your code here"
   ]
  },
  {
   "cell_type": "markdown",
   "metadata": {},
   "source": [
    "__Q6a.__ Use graphical and numerical techniques to compare the variation in the ages of smokers to the variation in the ages of non-smokers.  "
   ]
  },
  {
   "cell_type": "code",
   "execution_count": 1,
   "metadata": {},
   "outputs": [],
   "source": [
    "# insert your code here"
   ]
  },
  {
   "cell_type": "markdown",
   "metadata": {},
   "source": [
    "__Q6b.__ Does it appear that uncertainty about the mean age of smokers, or uncertainty about the mean age of non-smokers contributed more to the uncertainty for the mean difference that we are focusing on here?"
   ]
  },
  {
   "cell_type": "markdown",
   "metadata": {},
   "source": []
  }
 ],
 "metadata": {
  "kernelspec": {
   "name": "python385jvsc74a57bd0d90068d4af1695f7f29da3e0d69c645fb50c3d97a4d02163204725620501e360",
   "display_name": "Python 3.8.5 64-bit (conda)"
  },
  "language_info": {
   "codemirror_mode": {
    "name": "ipython",
    "version": 3
   },
   "file_extension": ".py",
   "mimetype": "text/x-python",
   "name": "python",
   "nbconvert_exporter": "python",
   "pygments_lexer": "ipython3",
   "version": "3.8.5-final"
  }
 },
 "nbformat": 4,
 "nbformat_minor": 2
}