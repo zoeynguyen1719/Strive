{
  "cells": [
    {
      "cell_type": "code",
      "metadata": {
        "tags": [],
        "deepnote_to_be_reexecuted": false,
        "source_hash": "68d3fe0e",
        "execution_start": 1619613915055,
        "execution_millis": 3069,
        "cell_id": "00000-2f61b648-77f7-48c2-9790-9537c24a12dd",
        "deepnote_cell_type": "code"
      },
      "source": "# Start writing code here...\nfrom sklearn import tree\nfrom sklearn.datasets import load_iris\nimport pandas as pd\nimport numpy as np\nimport matplotlib.pyplot as plt\n\nprint('set up complete')",
      "execution_count": 2,
      "outputs": [
        {
          "name": "stdout",
          "text": "set up complete\n",
          "output_type": "stream"
        }
      ]
    },
    {
      "cell_type": "code",
      "metadata": {
        "tags": [],
        "deepnote_to_be_reexecuted": false,
        "source_hash": "5c49b551",
        "execution_start": 1619613918385,
        "execution_millis": 104,
        "cell_id": "00001-33b7e533-3fbe-4e5f-a3d6-9ff3b28aa84f",
        "deepnote_cell_type": "code"
      },
      "source": "df_car= pd.read_csv('cars.csv')\ndf_car.head()",
      "execution_count": 3,
      "outputs": [
        {
          "output_type": "execute_result",
          "execution_count": 3,
          "data": {
            "application/vnd.deepnote.dataframe.v2+json": {
              "row_count": 5,
              "column_count": 12,
              "columns": [
                {
                  "name": "Unnamed: 0",
                  "dtype": "object",
                  "stats": {
                    "unique_count": 5,
                    "nan_count": 0,
                    "categories": [
                      {
                        "name": "Mazda RX4",
                        "count": 1
                      },
                      {
                        "name": "Mazda RX4 Wag",
                        "count": 1
                      },
                      {
                        "name": "3 others",
                        "count": 3
                      }
                    ]
                  }
                },
                {
                  "name": "mpg",
                  "dtype": "float64",
                  "stats": {
                    "unique_count": 4,
                    "nan_count": 0,
                    "min": "18.7",
                    "max": "22.8",
                    "histogram": [
                      {
                        "bin_start": 18.7,
                        "bin_end": 19.11,
                        "count": 1
                      },
                      {
                        "bin_start": 19.11,
                        "bin_end": 19.52,
                        "count": 0
                      },
                      {
                        "bin_start": 19.52,
                        "bin_end": 19.93,
                        "count": 0
                      },
                      {
                        "bin_start": 19.93,
                        "bin_end": 20.34,
                        "count": 0
                      },
                      {
                        "bin_start": 20.34,
                        "bin_end": 20.75,
                        "count": 0
                      },
                      {
                        "bin_start": 20.75,
                        "bin_end": 21.16,
                        "count": 2
                      },
                      {
                        "bin_start": 21.16,
                        "bin_end": 21.57,
                        "count": 1
                      },
                      {
                        "bin_start": 21.57,
                        "bin_end": 21.98,
                        "count": 0
                      },
                      {
                        "bin_start": 21.98,
                        "bin_end": 22.39,
                        "count": 0
                      },
                      {
                        "bin_start": 22.39,
                        "bin_end": 22.8,
                        "count": 1
                      }
                    ]
                  }
                },
                {
                  "name": "cyl",
                  "dtype": "int64",
                  "stats": {
                    "unique_count": 3,
                    "nan_count": 0,
                    "min": "4",
                    "max": "8",
                    "histogram": [
                      {
                        "bin_start": 4,
                        "bin_end": 4.4,
                        "count": 1
                      },
                      {
                        "bin_start": 4.4,
                        "bin_end": 4.8,
                        "count": 0
                      },
                      {
                        "bin_start": 4.8,
                        "bin_end": 5.2,
                        "count": 0
                      },
                      {
                        "bin_start": 5.2,
                        "bin_end": 5.6,
                        "count": 0
                      },
                      {
                        "bin_start": 5.6,
                        "bin_end": 6,
                        "count": 0
                      },
                      {
                        "bin_start": 6,
                        "bin_end": 6.4,
                        "count": 3
                      },
                      {
                        "bin_start": 6.4,
                        "bin_end": 6.800000000000001,
                        "count": 0
                      },
                      {
                        "bin_start": 6.800000000000001,
                        "bin_end": 7.2,
                        "count": 0
                      },
                      {
                        "bin_start": 7.2,
                        "bin_end": 7.6,
                        "count": 0
                      },
                      {
                        "bin_start": 7.6,
                        "bin_end": 8,
                        "count": 1
                      }
                    ]
                  }
                },
                {
                  "name": "disp",
                  "dtype": "float64",
                  "stats": {
                    "unique_count": 4,
                    "nan_count": 0,
                    "min": "108.0",
                    "max": "360.0",
                    "histogram": [
                      {
                        "bin_start": 108,
                        "bin_end": 133.2,
                        "count": 1
                      },
                      {
                        "bin_start": 133.2,
                        "bin_end": 158.4,
                        "count": 0
                      },
                      {
                        "bin_start": 158.4,
                        "bin_end": 183.6,
                        "count": 2
                      },
                      {
                        "bin_start": 183.6,
                        "bin_end": 208.8,
                        "count": 0
                      },
                      {
                        "bin_start": 208.8,
                        "bin_end": 234,
                        "count": 0
                      },
                      {
                        "bin_start": 234,
                        "bin_end": 259.2,
                        "count": 1
                      },
                      {
                        "bin_start": 259.2,
                        "bin_end": 284.4,
                        "count": 0
                      },
                      {
                        "bin_start": 284.4,
                        "bin_end": 309.6,
                        "count": 0
                      },
                      {
                        "bin_start": 309.6,
                        "bin_end": 334.79999999999995,
                        "count": 0
                      },
                      {
                        "bin_start": 334.79999999999995,
                        "bin_end": 360,
                        "count": 1
                      }
                    ]
                  }
                },
                {
                  "name": "hp",
                  "dtype": "int64",
                  "stats": {
                    "unique_count": 3,
                    "nan_count": 0,
                    "min": "93",
                    "max": "175",
                    "histogram": [
                      {
                        "bin_start": 93,
                        "bin_end": 101.2,
                        "count": 1
                      },
                      {
                        "bin_start": 101.2,
                        "bin_end": 109.4,
                        "count": 0
                      },
                      {
                        "bin_start": 109.4,
                        "bin_end": 117.6,
                        "count": 3
                      },
                      {
                        "bin_start": 117.6,
                        "bin_end": 125.8,
                        "count": 0
                      },
                      {
                        "bin_start": 125.8,
                        "bin_end": 134,
                        "count": 0
                      },
                      {
                        "bin_start": 134,
                        "bin_end": 142.2,
                        "count": 0
                      },
                      {
                        "bin_start": 142.2,
                        "bin_end": 150.39999999999998,
                        "count": 0
                      },
                      {
                        "bin_start": 150.39999999999998,
                        "bin_end": 158.6,
                        "count": 0
                      },
                      {
                        "bin_start": 158.6,
                        "bin_end": 166.8,
                        "count": 0
                      },
                      {
                        "bin_start": 166.8,
                        "bin_end": 175,
                        "count": 1
                      }
                    ]
                  }
                },
                {
                  "name": "drat",
                  "dtype": "float64",
                  "stats": {
                    "unique_count": 4,
                    "nan_count": 0,
                    "min": "3.08",
                    "max": "3.9",
                    "histogram": [
                      {
                        "bin_start": 3.08,
                        "bin_end": 3.162,
                        "count": 2
                      },
                      {
                        "bin_start": 3.162,
                        "bin_end": 3.244,
                        "count": 0
                      },
                      {
                        "bin_start": 3.244,
                        "bin_end": 3.326,
                        "count": 0
                      },
                      {
                        "bin_start": 3.326,
                        "bin_end": 3.408,
                        "count": 0
                      },
                      {
                        "bin_start": 3.408,
                        "bin_end": 3.49,
                        "count": 0
                      },
                      {
                        "bin_start": 3.49,
                        "bin_end": 3.572,
                        "count": 0
                      },
                      {
                        "bin_start": 3.572,
                        "bin_end": 3.654,
                        "count": 0
                      },
                      {
                        "bin_start": 3.654,
                        "bin_end": 3.7359999999999998,
                        "count": 0
                      },
                      {
                        "bin_start": 3.7359999999999998,
                        "bin_end": 3.818,
                        "count": 0
                      },
                      {
                        "bin_start": 3.818,
                        "bin_end": 3.9,
                        "count": 3
                      }
                    ]
                  }
                },
                {
                  "name": "wt",
                  "dtype": "float64",
                  "stats": {
                    "unique_count": 5,
                    "nan_count": 0,
                    "min": "2.32",
                    "max": "3.44",
                    "histogram": [
                      {
                        "bin_start": 2.32,
                        "bin_end": 2.432,
                        "count": 1
                      },
                      {
                        "bin_start": 2.432,
                        "bin_end": 2.544,
                        "count": 0
                      },
                      {
                        "bin_start": 2.544,
                        "bin_end": 2.6559999999999997,
                        "count": 1
                      },
                      {
                        "bin_start": 2.6559999999999997,
                        "bin_end": 2.768,
                        "count": 0
                      },
                      {
                        "bin_start": 2.768,
                        "bin_end": 2.88,
                        "count": 1
                      },
                      {
                        "bin_start": 2.88,
                        "bin_end": 2.992,
                        "count": 0
                      },
                      {
                        "bin_start": 2.992,
                        "bin_end": 3.104,
                        "count": 0
                      },
                      {
                        "bin_start": 3.104,
                        "bin_end": 3.216,
                        "count": 1
                      },
                      {
                        "bin_start": 3.216,
                        "bin_end": 3.3280000000000003,
                        "count": 0
                      },
                      {
                        "bin_start": 3.3280000000000003,
                        "bin_end": 3.44,
                        "count": 1
                      }
                    ]
                  }
                },
                {
                  "name": "qsec",
                  "dtype": "float64",
                  "stats": {
                    "unique_count": 4,
                    "nan_count": 0,
                    "min": "16.46",
                    "max": "19.44",
                    "histogram": [
                      {
                        "bin_start": 16.46,
                        "bin_end": 16.758000000000003,
                        "count": 1
                      },
                      {
                        "bin_start": 16.758000000000003,
                        "bin_end": 17.056,
                        "count": 2
                      },
                      {
                        "bin_start": 17.056,
                        "bin_end": 17.354,
                        "count": 0
                      },
                      {
                        "bin_start": 17.354,
                        "bin_end": 17.652,
                        "count": 0
                      },
                      {
                        "bin_start": 17.652,
                        "bin_end": 17.950000000000003,
                        "count": 0
                      },
                      {
                        "bin_start": 17.950000000000003,
                        "bin_end": 18.248,
                        "count": 0
                      },
                      {
                        "bin_start": 18.248,
                        "bin_end": 18.546,
                        "count": 0
                      },
                      {
                        "bin_start": 18.546,
                        "bin_end": 18.844,
                        "count": 1
                      },
                      {
                        "bin_start": 18.844,
                        "bin_end": 19.142000000000003,
                        "count": 0
                      },
                      {
                        "bin_start": 19.142000000000003,
                        "bin_end": 19.44,
                        "count": 1
                      }
                    ]
                  }
                },
                {
                  "name": "vs",
                  "dtype": "int64",
                  "stats": {
                    "unique_count": 2,
                    "nan_count": 0,
                    "min": "0",
                    "max": "1",
                    "histogram": [
                      {
                        "bin_start": 0,
                        "bin_end": 0.1,
                        "count": 3
                      },
                      {
                        "bin_start": 0.1,
                        "bin_end": 0.2,
                        "count": 0
                      },
                      {
                        "bin_start": 0.2,
                        "bin_end": 0.30000000000000004,
                        "count": 0
                      },
                      {
                        "bin_start": 0.30000000000000004,
                        "bin_end": 0.4,
                        "count": 0
                      },
                      {
                        "bin_start": 0.4,
                        "bin_end": 0.5,
                        "count": 0
                      },
                      {
                        "bin_start": 0.5,
                        "bin_end": 0.6000000000000001,
                        "count": 0
                      },
                      {
                        "bin_start": 0.6000000000000001,
                        "bin_end": 0.7000000000000001,
                        "count": 0
                      },
                      {
                        "bin_start": 0.7000000000000001,
                        "bin_end": 0.8,
                        "count": 0
                      },
                      {
                        "bin_start": 0.8,
                        "bin_end": 0.9,
                        "count": 0
                      },
                      {
                        "bin_start": 0.9,
                        "bin_end": 1,
                        "count": 2
                      }
                    ]
                  }
                },
                {
                  "name": "am",
                  "dtype": "int64",
                  "stats": {
                    "unique_count": 2,
                    "nan_count": 0,
                    "min": "0",
                    "max": "1",
                    "histogram": [
                      {
                        "bin_start": 0,
                        "bin_end": 0.1,
                        "count": 2
                      },
                      {
                        "bin_start": 0.1,
                        "bin_end": 0.2,
                        "count": 0
                      },
                      {
                        "bin_start": 0.2,
                        "bin_end": 0.30000000000000004,
                        "count": 0
                      },
                      {
                        "bin_start": 0.30000000000000004,
                        "bin_end": 0.4,
                        "count": 0
                      },
                      {
                        "bin_start": 0.4,
                        "bin_end": 0.5,
                        "count": 0
                      },
                      {
                        "bin_start": 0.5,
                        "bin_end": 0.6000000000000001,
                        "count": 0
                      },
                      {
                        "bin_start": 0.6000000000000001,
                        "bin_end": 0.7000000000000001,
                        "count": 0
                      },
                      {
                        "bin_start": 0.7000000000000001,
                        "bin_end": 0.8,
                        "count": 0
                      },
                      {
                        "bin_start": 0.8,
                        "bin_end": 0.9,
                        "count": 0
                      },
                      {
                        "bin_start": 0.9,
                        "bin_end": 1,
                        "count": 3
                      }
                    ]
                  }
                },
                {
                  "name": "gear",
                  "dtype": "int64",
                  "stats": {
                    "unique_count": 2,
                    "nan_count": 0,
                    "min": "3",
                    "max": "4",
                    "histogram": [
                      {
                        "bin_start": 3,
                        "bin_end": 3.1,
                        "count": 2
                      },
                      {
                        "bin_start": 3.1,
                        "bin_end": 3.2,
                        "count": 0
                      },
                      {
                        "bin_start": 3.2,
                        "bin_end": 3.3,
                        "count": 0
                      },
                      {
                        "bin_start": 3.3,
                        "bin_end": 3.4,
                        "count": 0
                      },
                      {
                        "bin_start": 3.4,
                        "bin_end": 3.5,
                        "count": 0
                      },
                      {
                        "bin_start": 3.5,
                        "bin_end": 3.6,
                        "count": 0
                      },
                      {
                        "bin_start": 3.6,
                        "bin_end": 3.7,
                        "count": 0
                      },
                      {
                        "bin_start": 3.7,
                        "bin_end": 3.8,
                        "count": 0
                      },
                      {
                        "bin_start": 3.8,
                        "bin_end": 3.9,
                        "count": 0
                      },
                      {
                        "bin_start": 3.9,
                        "bin_end": 4,
                        "count": 3
                      }
                    ]
                  }
                },
                {
                  "name": "carb",
                  "dtype": "int64",
                  "stats": {
                    "unique_count": 3,
                    "nan_count": 0,
                    "min": "1",
                    "max": "4",
                    "histogram": [
                      {
                        "bin_start": 1,
                        "bin_end": 1.3,
                        "count": 2
                      },
                      {
                        "bin_start": 1.3,
                        "bin_end": 1.6,
                        "count": 0
                      },
                      {
                        "bin_start": 1.6,
                        "bin_end": 1.9,
                        "count": 0
                      },
                      {
                        "bin_start": 1.9,
                        "bin_end": 2.2,
                        "count": 1
                      },
                      {
                        "bin_start": 2.2,
                        "bin_end": 2.5,
                        "count": 0
                      },
                      {
                        "bin_start": 2.5,
                        "bin_end": 2.8,
                        "count": 0
                      },
                      {
                        "bin_start": 2.8,
                        "bin_end": 3.1,
                        "count": 0
                      },
                      {
                        "bin_start": 3.1,
                        "bin_end": 3.4,
                        "count": 0
                      },
                      {
                        "bin_start": 3.4,
                        "bin_end": 3.6999999999999997,
                        "count": 0
                      },
                      {
                        "bin_start": 3.6999999999999997,
                        "bin_end": 4,
                        "count": 2
                      }
                    ]
                  }
                },
                {
                  "name": "_deepnote_index_column",
                  "dtype": "int64"
                }
              ],
              "rows_top": [
                {
                  "Unnamed: 0": "Mazda RX4",
                  "mpg": 21,
                  "cyl": 6,
                  "disp": 160,
                  "hp": 110,
                  "drat": 3.9,
                  "wt": 2.62,
                  "qsec": 16.46,
                  "vs": 0,
                  "am": 1,
                  "gear": 4,
                  "carb": 4,
                  "_deepnote_index_column": 0
                },
                {
                  "Unnamed: 0": "Mazda RX4 Wag",
                  "mpg": 21,
                  "cyl": 6,
                  "disp": 160,
                  "hp": 110,
                  "drat": 3.9,
                  "wt": 2.875,
                  "qsec": 17.02,
                  "vs": 0,
                  "am": 1,
                  "gear": 4,
                  "carb": 4,
                  "_deepnote_index_column": 1
                },
                {
                  "Unnamed: 0": "Datsun 710",
                  "mpg": 22.8,
                  "cyl": 4,
                  "disp": 108,
                  "hp": 93,
                  "drat": 3.85,
                  "wt": 2.32,
                  "qsec": 18.61,
                  "vs": 1,
                  "am": 1,
                  "gear": 4,
                  "carb": 1,
                  "_deepnote_index_column": 2
                },
                {
                  "Unnamed: 0": "Hornet 4 Drive",
                  "mpg": 21.4,
                  "cyl": 6,
                  "disp": 258,
                  "hp": 110,
                  "drat": 3.08,
                  "wt": 3.215,
                  "qsec": 19.44,
                  "vs": 1,
                  "am": 0,
                  "gear": 3,
                  "carb": 1,
                  "_deepnote_index_column": 3
                },
                {
                  "Unnamed: 0": "Hornet Sportabout",
                  "mpg": 18.7,
                  "cyl": 8,
                  "disp": 360,
                  "hp": 175,
                  "drat": 3.15,
                  "wt": 3.44,
                  "qsec": 17.02,
                  "vs": 0,
                  "am": 0,
                  "gear": 3,
                  "carb": 2,
                  "_deepnote_index_column": 4
                }
              ],
              "rows_bottom": null
            },
            "text/plain": "          Unnamed: 0   mpg  cyl   disp   hp  drat     wt   qsec  vs  am  gear  \\\n0          Mazda RX4  21.0    6  160.0  110  3.90  2.620  16.46   0   1     4   \n1      Mazda RX4 Wag  21.0    6  160.0  110  3.90  2.875  17.02   0   1     4   \n2         Datsun 710  22.8    4  108.0   93  3.85  2.320  18.61   1   1     4   \n3     Hornet 4 Drive  21.4    6  258.0  110  3.08  3.215  19.44   1   0     3   \n4  Hornet Sportabout  18.7    8  360.0  175  3.15  3.440  17.02   0   0     3   \n\n   carb  \n0     4  \n1     4  \n2     1  \n3     1  \n4     2  ",
            "text/html": "<div>\n<style scoped>\n    .dataframe tbody tr th:only-of-type {\n        vertical-align: middle;\n    }\n\n    .dataframe tbody tr th {\n        vertical-align: top;\n    }\n\n    .dataframe thead th {\n        text-align: right;\n    }\n</style>\n<table border=\"1\" class=\"dataframe\">\n  <thead>\n    <tr style=\"text-align: right;\">\n      <th></th>\n      <th>Unnamed: 0</th>\n      <th>mpg</th>\n      <th>cyl</th>\n      <th>disp</th>\n      <th>hp</th>\n      <th>drat</th>\n      <th>wt</th>\n      <th>qsec</th>\n      <th>vs</th>\n      <th>am</th>\n      <th>gear</th>\n      <th>carb</th>\n    </tr>\n  </thead>\n  <tbody>\n    <tr>\n      <th>0</th>\n      <td>Mazda RX4</td>\n      <td>21.0</td>\n      <td>6</td>\n      <td>160.0</td>\n      <td>110</td>\n      <td>3.90</td>\n      <td>2.620</td>\n      <td>16.46</td>\n      <td>0</td>\n      <td>1</td>\n      <td>4</td>\n      <td>4</td>\n    </tr>\n    <tr>\n      <th>1</th>\n      <td>Mazda RX4 Wag</td>\n      <td>21.0</td>\n      <td>6</td>\n      <td>160.0</td>\n      <td>110</td>\n      <td>3.90</td>\n      <td>2.875</td>\n      <td>17.02</td>\n      <td>0</td>\n      <td>1</td>\n      <td>4</td>\n      <td>4</td>\n    </tr>\n    <tr>\n      <th>2</th>\n      <td>Datsun 710</td>\n      <td>22.8</td>\n      <td>4</td>\n      <td>108.0</td>\n      <td>93</td>\n      <td>3.85</td>\n      <td>2.320</td>\n      <td>18.61</td>\n      <td>1</td>\n      <td>1</td>\n      <td>4</td>\n      <td>1</td>\n    </tr>\n    <tr>\n      <th>3</th>\n      <td>Hornet 4 Drive</td>\n      <td>21.4</td>\n      <td>6</td>\n      <td>258.0</td>\n      <td>110</td>\n      <td>3.08</td>\n      <td>3.215</td>\n      <td>19.44</td>\n      <td>1</td>\n      <td>0</td>\n      <td>3</td>\n      <td>1</td>\n    </tr>\n    <tr>\n      <th>4</th>\n      <td>Hornet Sportabout</td>\n      <td>18.7</td>\n      <td>8</td>\n      <td>360.0</td>\n      <td>175</td>\n      <td>3.15</td>\n      <td>3.440</td>\n      <td>17.02</td>\n      <td>0</td>\n      <td>0</td>\n      <td>3</td>\n      <td>2</td>\n    </tr>\n  </tbody>\n</table>\n</div>"
          },
          "metadata": {}
        }
      ]
    },
    {
      "cell_type": "code",
      "source": "features = list(df_car.columns)\nprint(features)",
      "metadata": {
        "tags": [],
        "cell_id": "00002-448d2bdb-8363-4cf3-bc48-776d3f8eeb49",
        "deepnote_to_be_reexecuted": false,
        "source_hash": "f7d80edb",
        "execution_start": 1619613926106,
        "execution_millis": 18,
        "deepnote_cell_type": "code"
      },
      "outputs": [
        {
          "name": "stdout",
          "text": "['Unnamed: 0', 'mpg', 'cyl', 'disp', 'hp', 'drat', 'wt', 'qsec', 'vs', 'am', 'gear', 'carb']\n",
          "output_type": "stream"
        }
      ],
      "execution_count": 5
    },
    {
      "cell_type": "code",
      "source": "features=features[1:]\nfeatures",
      "metadata": {
        "tags": [],
        "cell_id": "00003-5f21b635-2132-4f8d-9fdf-67a7e080fbe4",
        "deepnote_to_be_reexecuted": false,
        "source_hash": "a7e45100",
        "execution_start": 1619613927714,
        "execution_millis": 1,
        "deepnote_cell_type": "code"
      },
      "outputs": [
        {
          "output_type": "execute_result",
          "execution_count": 6,
          "data": {
            "text/plain": "['mpg', 'cyl', 'disp', 'hp', 'drat', 'wt', 'qsec', 'vs', 'am', 'gear', 'carb']"
          },
          "metadata": {}
        }
      ],
      "execution_count": 6
    },
    {
      "cell_type": "code",
      "source": "X = df_car[features]\nY = df_car.carb\n\n\nprint(X.shape)\nprint(Y.shape)",
      "metadata": {
        "tags": [],
        "cell_id": "00003-acb82e75-1bdd-4a21-b316-03a1422c74ba",
        "deepnote_to_be_reexecuted": false,
        "source_hash": "c5805bc0",
        "execution_start": 1619614033544,
        "execution_millis": 6,
        "deepnote_cell_type": "code"
      },
      "outputs": [
        {
          "name": "stdout",
          "text": "(32, 11)\n(32,)\n",
          "output_type": "stream"
        }
      ],
      "execution_count": 7
    },
    {
      "cell_type": "code",
      "source": "from sklearn.model_selection import train_test_split\n\nX_train, X_test, Y_train, Y_test = train_test_split(X, Y, test_size = 0.2, random_state = 0)\n\nprint(X_train.shape)\nprint(Y_train.shape)\nprint(X_test.shape)\nprint(Y_test.shape)",
      "metadata": {
        "tags": [],
        "cell_id": "00004-366d231e-50ce-4e0c-bcd8-eabd0e2b5f8a",
        "deepnote_to_be_reexecuted": false,
        "source_hash": "bb15b83c",
        "execution_start": 1619614040579,
        "execution_millis": 24,
        "deepnote_cell_type": "code"
      },
      "outputs": [
        {
          "name": "stdout",
          "text": "(25, 11)\n(25,)\n(7, 11)\n(7,)\n",
          "output_type": "stream"
        }
      ],
      "execution_count": 8
    },
    {
      "cell_type": "code",
      "source": "from sklearn.tree import DecisionTreeClassifier\n\nmodel = DecisionTreeClassifier()\nmodel.fit(X_train, Y_train)\nprint(\"training accuracy :\", model.score(X_train, Y_train))\nprint(\"testing accuracy :\", model.score(X_test, Y_test))",
      "metadata": {
        "tags": [],
        "cell_id": "00005-24b12cba-478a-4dfb-9ffd-17e8afdb27ac",
        "deepnote_to_be_reexecuted": false,
        "source_hash": "275b74c8",
        "execution_start": 1619614043820,
        "execution_millis": 16,
        "deepnote_cell_type": "code"
      },
      "outputs": [
        {
          "name": "stdout",
          "text": "training accuracy : 1.0\ntesting accuracy : 0.8571428571428571\n",
          "output_type": "stream"
        }
      ],
      "execution_count": 9
    },
    {
      "cell_type": "code",
      "source": "from sklearn.ensemble import RandomForestClassifier\n\nmodel2 = RandomForestClassifier()\nmodel2.fit(X_train, Y_train)\nprint(\"training accuracy :\", model2.score(X_train, Y_train))\nprint(\"testing accuracy :\", model2.score(X_test, Y_test))",
      "metadata": {
        "tags": [],
        "cell_id": "00006-f2e7ff5f-8a8d-4b03-bb8e-6f0768228831",
        "deepnote_to_be_reexecuted": false,
        "source_hash": "5ac95cee",
        "execution_start": 1619614048020,
        "execution_millis": 392,
        "deepnote_cell_type": "code"
      },
      "outputs": [
        {
          "name": "stdout",
          "text": "training accuracy : 1.0\ntesting accuracy : 0.8571428571428571\n",
          "output_type": "stream"
        }
      ],
      "execution_count": 10
    },
    {
      "cell_type": "code",
      "source": "tree.plot_tree(model)",
      "metadata": {
        "tags": [],
        "cell_id": "00007-dd03535f-6a71-44e3-8fd1-63d40989c6be",
        "deepnote_to_be_reexecuted": false,
        "source_hash": "7e7d5d91",
        "execution_start": 1619614058940,
        "execution_millis": 2019,
        "deepnote_cell_type": "code"
      },
      "outputs": [
        {
          "output_type": "execute_result",
          "execution_count": 11,
          "data": {
            "text/plain": "[Text(83.7, 199.32, 'X[10] <= 1.5\\ngini = 0.746\\nsamples = 25\\nvalue = [6, 9, 2, 6, 1, 1]'),\n Text(41.85, 163.07999999999998, 'gini = 0.0\\nsamples = 6\\nvalue = [6, 0, 0, 0, 0, 0]'),\n Text(125.55000000000001, 163.07999999999998, 'X[10] <= 2.5\\ngini = 0.659\\nsamples = 19\\nvalue = [0, 9, 2, 6, 1, 1]'),\n Text(83.7, 126.83999999999999, 'gini = 0.0\\nsamples = 9\\nvalue = [0, 9, 0, 0, 0, 0]'),\n Text(167.4, 126.83999999999999, 'X[10] <= 3.5\\ngini = 0.58\\nsamples = 10\\nvalue = [0, 0, 2, 6, 1, 1]'),\n Text(125.55000000000001, 90.6, 'gini = 0.0\\nsamples = 2\\nvalue = [0, 0, 2, 0, 0, 0]'),\n Text(209.25, 90.6, 'X[9] <= 4.5\\ngini = 0.406\\nsamples = 8\\nvalue = [0, 0, 0, 6, 1, 1]'),\n Text(167.4, 54.359999999999985, 'gini = 0.0\\nsamples = 6\\nvalue = [0, 0, 0, 6, 0, 0]'),\n Text(251.10000000000002, 54.359999999999985, 'X[3] <= 255.0\\ngini = 0.5\\nsamples = 2\\nvalue = [0, 0, 0, 0, 1, 1]'),\n Text(209.25, 18.119999999999976, 'gini = 0.0\\nsamples = 1\\nvalue = [0, 0, 0, 0, 1, 0]'),\n Text(292.95, 18.119999999999976, 'gini = 0.0\\nsamples = 1\\nvalue = [0, 0, 0, 0, 0, 1]')]"
          },
          "metadata": {}
        },
        {
          "data": {
            "text/plain": "<Figure size 432x288 with 1 Axes>",
            "image/png": "[encoded data removed]"
          },
          "metadata": {
            "needs_background": "light",
            "image/png": {
              "width": 349,
              "height": 231
            }
          },
          "output_type": "display_data"
        }
      ],
      "execution_count": 11
    },
    {
      "cell_type": "code",
      "source": "import graphviz \ndot_data = tree.export_graphviz(model, out_file=None) \ngraph = graphviz.Source(dot_data) \ngraph.render(\"car\") ",
      "metadata": {
        "tags": [],
        "cell_id": "00008-748f7afd-f2d1-4c3c-9c5e-5628ac216336",
        "deepnote_to_be_reexecuted": false,
        "source_hash": "4f016fb5",
        "execution_start": 1619614075797,
        "execution_millis": 117,
        "deepnote_cell_type": "code"
      },
      "outputs": [
        {
          "output_type": "execute_result",
          "execution_count": 13,
          "data": {
            "text/plain": "'car.pdf'"
          },
          "metadata": {}
        }
      ],
      "execution_count": 13
    },
    {
      "cell_type": "markdown",
      "source": "<a style='text-decoration:none;line-height:16px;display:flex;color:#5B5B62;padding:10px;justify-content:end;' href='https://deepnote.com?utm_source=created-in-deepnote-cell&projectId=385434ac-9ccf-4783-b08d-8a9eb3e3b295' target=\"_blank\">\n<img alt='Created in deepnote.com' style='display:inline;max-height:16px;margin:0px;margin-right:7.5px;' src='data:image/svg+xml;base64,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' > </img>\nCreated in <span style='font-weight:600;margin-left:4px;'>Deepnote</span></a>",
      "metadata": {
        "tags": [],
        "created_in_deepnote_cell": true,
        "deepnote_cell_type": "markdown"
      }
    }
  ],
  "nbformat": 4,
  "nbformat_minor": 2,
  "metadata": {
    "orig_nbformat": 2,
    "deepnote": {
      "is_reactive": false
    },
    "deepnote_notebook_id": "eb24e58a-9dab-419e-9000-3a9c05bcc4fa",
    "deepnote_execution_queue": []
  }
}