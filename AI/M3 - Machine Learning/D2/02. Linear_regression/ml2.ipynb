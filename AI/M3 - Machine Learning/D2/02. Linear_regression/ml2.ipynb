{
 "cells": [
  {
   "cell_type": "markdown",
   "metadata": {
    "deletable": false,
    "editable": false,
    "nbgrader": {
     "cell_type": "markdown",
     "checksum": "fbfaeccba7c78624daa81efaeac3384d",
     "grade": false,
     "grade_id": "cell-9bac3e2eaf76d09a",
     "locked": true,
     "schema_version": 3,
     "solution": false,
     "task": false
    }
   },
   "source": [
    "# Linear Regression From Scratch\n",
    "In this notebook you will implement linear regression using the least squares method.\n",
    "\n",
    "The notebook will guide you in the general steps. You may use only numpy, pandas, and matplotlib for this exercise.\n",
    "\n",
    "#### Math Background\n",
    "The task is to solve linear regression for the data set of ```x``` and ```y```. That is, fit a line y to the data such that ```y = a + bx + e```. Where a and b are coefficents and e is an error term.\n",
    "\n",
    "We know that ```b = SUM ( xi - x_mean) * (yi - y_mean) / SUM (xi - x_mean)^2``` where ```xi```, and ```yi``` are the indivdual observations and ```x_mean```, ```y_mean``` are means of all ```xi``` and ```yi```.\n",
    "\n",
    "So a reasonable solution then for a fit is ```a = y_mean - b * x_mean```.\n",
    "\n",
    "\n",
    "#### Implementation Steps\n",
    "1. Load the file ```reg_data.csv```\n",
    "2. Display the data with a scatter plot. Write a markdown cell and comment on the structure of the data and what kind of line you think will fit the data. \n",
    "3. Implement a function of the least squares method.\n",
    "4. Plot the predictions from your function.\n",
    "5. Comment on the output of your function. Does it make sense? Can it be made better? If yes, how?"
   ]
  },
  {
   "cell_type": "code",
   "execution_count": null,
   "metadata": {},
   "outputs": [],
   "source": [
    "#import the minimum packages\n",
    "import numpy as np\n",
    "import pandas as pd\n",
    "import matplotlib.pyplot as plt\n",
    "from sklearn.model_selection import train_test_split\n",
    "from sklearn import datasets, linear_model\n",
    "from sklearn.linear_model import LinearRegression"
   ]
  },
  {
   "cell_type": "code",
   "execution_count": null,
   "metadata": {
    "deletable": false,
    "nbgrader": {
     "cell_type": "code",
     "checksum": "2c551326ada620ac865e47a09cfd6e88",
     "grade": false,
     "grade_id": "cell-4104816f50e4844b",
     "locked": false,
     "schema_version": 3,
     "solution": true,
     "task": false
    }
   },
   "outputs": [],
   "source": [
    "#load and inspect the data\n",
    "df = pd.read_csv('reg_data.csv')\n",
    "df.head()\n"
   ]
  },
  {
   "cell_type": "code",
   "execution_count": null,
   "metadata": {
    "deletable": false,
    "editable": false,
    "nbgrader": {
     "cell_type": "code",
     "checksum": "5a44bd6c555f034b17e8b48663c46fbf",
     "grade": true,
     "grade_id": "cell-3676b87d8fc79bbd",
     "locked": true,
     "points": 1,
     "schema_version": 3,
     "solution": false,
     "task": false
    }
   },
   "outputs": [],
   "source": [
    "assert df.shape == (100,2)"
   ]
  },
  {
   "cell_type": "code",
   "execution_count": 102,
   "metadata": {
    "deletable": false,
    "nbgrader": {
     "cell_type": "code",
     "checksum": "ec83d674d316f06d99e4a62881fe0d91",
     "grade": false,
     "grade_id": "cell-7f576e50392bc5e9",
     "locked": false,
     "schema_version": 3,
     "solution": true,
     "task": false
    }
   },
   "outputs": [
    {
     "output_type": "display_data",
     "data": {
      "text/plain": "<Figure size 432x288 with 1 Axes>",
      "image/svg+xml": "<?xml version=\"1.0\" encoding=\"utf-8\" standalone=\"no\"?>\r\n<!DOCTYPE svg PUBLIC \"-//W3C//DTD SVG 1.1//EN\"\r\n  \"http://www.w3.org/Graphics/SVG/1.1/DTD/svg11.dtd\">\r\n<!-- Created with matplotlib (https://matplotlib.org/) -->\r\n<svg height=\"248.518125pt\" version=\"1.1\" viewBox=\"0 0 375.2875 248.518125\" width=\"375.2875pt\" xmlns=\"http://www.w3.org/2000/svg\" xmlns:xlink=\"http://www.w3.org/1999/xlink\">\r\n <metadata>\r\n  <rdf:RDF xmlns:cc=\"http://creativecommons.org/ns#\" xmlns:dc=\"http://purl.org/dc/elements/1.1/\" xmlns:rdf=\"http://www.w3.org/1999/02/22-rdf-syntax-ns#\">\r\n   <cc:Work>\r\n    <dc:type rdf:resource=\"http://purl.org/dc/dcmitype/StillImage\"/>\r\n    <dc:date>2021-04-20T17:59:06.773904</dc:date>\r\n    <dc:format>image/svg+xml</dc:format>\r\n    <dc:creator>\r\n     <cc:Agent>\r\n      <dc:title>Matplotlib v3.3.2, https://matplotlib.org/</dc:title>\r\n     </cc:Agent>\r\n    </dc:creator>\r\n   </cc:Work>\r\n  </rdf:RDF>\r\n </metadata>\r\n <defs>\r\n  <style type=\"text/css\">*{stroke-linecap:butt;stroke-linejoin:round;}</style>\r\n </defs>\r\n <g id=\"figure_1\">\r\n  <g id=\"patch_1\">\r\n   <path d=\"M 0 248.518125 \r\nL 375.2875 248.518125 \r\nL 375.2875 0 \r\nL 0 0 \r\nz\r\n\" style=\"fill:none;\"/>\r\n  </g>\r\n  <g id=\"axes_1\">\r\n   <g id=\"patch_2\">\r\n    <path d=\"M 33.2875 224.64 \r\nL 368.0875 224.64 \r\nL 368.0875 7.2 \r\nL 33.2875 7.2 \r\nz\r\n\" style=\"fill:#ffffff;\"/>\r\n   </g>\r\n   <g id=\"PathCollection_1\">\r\n    <defs>\r\n     <path d=\"M 0 3 \r\nC 0.795609 3 1.55874 2.683901 2.12132 2.12132 \r\nC 2.683901 1.55874 3 0.795609 3 0 \r\nC 3 -0.795609 2.683901 -1.55874 2.12132 -2.12132 \r\nC 1.55874 -2.683901 0.795609 -3 0 -3 \r\nC -0.795609 -3 -1.55874 -2.683901 -2.12132 -2.12132 \r\nC -2.683901 -1.55874 -3 -0.795609 -3 0 \r\nC -3 0.795609 -2.683901 1.55874 -2.12132 2.12132 \r\nC -1.55874 2.683901 -0.795609 3 0 3 \r\nz\r\n\" id=\"m83bdc9655a\" style=\"stroke:#00008b;\"/>\r\n    </defs>\r\n    <g clip-path=\"url(#p622fbecb7a)\">\r\n     <use style=\"fill:#00008b;stroke:#00008b;\" x=\"148.430247\" xlink:href=\"#m83bdc9655a\" y=\"177.616579\"/>\r\n     <use style=\"fill:#00008b;stroke:#00008b;\" x=\"212.759988\" xlink:href=\"#m83bdc9655a\" y=\"122.587899\"/>\r\n     <use style=\"fill:#00008b;stroke:#00008b;\" x=\"237.673394\" xlink:href=\"#m83bdc9655a\" y=\"131.813946\"/>\r\n     <use style=\"fill:#00008b;stroke:#00008b;\" x=\"194.463847\" xlink:href=\"#m83bdc9655a\" y=\"118.477459\"/>\r\n     <use style=\"fill:#00008b;stroke:#00008b;\" x=\"232.394222\" xlink:href=\"#m83bdc9655a\" y=\"95.195231\"/>\r\n     <use style=\"fill:#00008b;stroke:#00008b;\" x=\"218.033732\" xlink:href=\"#m83bdc9655a\" y=\"108.583905\"/>\r\n     <use style=\"fill:#00008b;stroke:#00008b;\" x=\"209.024594\" xlink:href=\"#m83bdc9655a\" y=\"106.460496\"/>\r\n     <use style=\"fill:#00008b;stroke:#00008b;\" x=\"169.32749\" xlink:href=\"#m83bdc9655a\" y=\"136.847488\"/>\r\n     <use style=\"fill:#00008b;stroke:#00008b;\" x=\"196.398868\" xlink:href=\"#m83bdc9655a\" y=\"112.859472\"/>\r\n     <use style=\"fill:#00008b;stroke:#00008b;\" x=\"210.064404\" xlink:href=\"#m83bdc9655a\" y=\"118.842261\"/>\r\n     <use style=\"fill:#00008b;stroke:#00008b;\" x=\"188.143199\" xlink:href=\"#m83bdc9655a\" y=\"142.793834\"/>\r\n     <use style=\"fill:#00008b;stroke:#00008b;\" x=\"215.60327\" xlink:href=\"#m83bdc9655a\" y=\"102.249357\"/>\r\n     <use style=\"fill:#00008b;stroke:#00008b;\" x=\"184.28276\" xlink:href=\"#m83bdc9655a\" y=\"132.635517\"/>\r\n     <use style=\"fill:#00008b;stroke:#00008b;\" x=\"227.337674\" xlink:href=\"#m83bdc9655a\" y=\"112.76799\"/>\r\n     <use style=\"fill:#00008b;stroke:#00008b;\" x=\"222.906685\" xlink:href=\"#m83bdc9655a\" y=\"103.797104\"/>\r\n     <use style=\"fill:#00008b;stroke:#00008b;\" x=\"199.014695\" xlink:href=\"#m83bdc9655a\" y=\"134.543485\"/>\r\n     <use style=\"fill:#00008b;stroke:#00008b;\" x=\"185.891112\" xlink:href=\"#m83bdc9655a\" y=\"101.635312\"/>\r\n     <use style=\"fill:#00008b;stroke:#00008b;\" x=\"233.882588\" xlink:href=\"#m83bdc9655a\" y=\"80.129797\"/>\r\n     <use style=\"fill:#00008b;stroke:#00008b;\" x=\"188.754735\" xlink:href=\"#m83bdc9655a\" y=\"152.173237\"/>\r\n     <use style=\"fill:#00008b;stroke:#00008b;\" x=\"167.843336\" xlink:href=\"#m83bdc9655a\" y=\"140.253179\"/>\r\n     <use style=\"fill:#00008b;stroke:#00008b;\" x=\"251.998341\" xlink:href=\"#m83bdc9655a\" y=\"100.171574\"/>\r\n     <use style=\"fill:#00008b;stroke:#00008b;\" x=\"249.619494\" xlink:href=\"#m83bdc9655a\" y=\"48.643085\"/>\r\n     <use style=\"fill:#00008b;stroke:#00008b;\" x=\"194.480968\" xlink:href=\"#m83bdc9655a\" y=\"139.697102\"/>\r\n     <use style=\"fill:#00008b;stroke:#00008b;\" x=\"176.325013\" xlink:href=\"#m83bdc9655a\" y=\"148.395972\"/>\r\n     <use style=\"fill:#00008b;stroke:#00008b;\" x=\"207.897496\" xlink:href=\"#m83bdc9655a\" y=\"112.786127\"/>\r\n     <use style=\"fill:#00008b;stroke:#00008b;\" x=\"231.034159\" xlink:href=\"#m83bdc9655a\" y=\"113.699182\"/>\r\n     <use style=\"fill:#00008b;stroke:#00008b;\" x=\"224.69842\" xlink:href=\"#m83bdc9655a\" y=\"82.987092\"/>\r\n     <use style=\"fill:#00008b;stroke:#00008b;\" x=\"244.084102\" xlink:href=\"#m83bdc9655a\" y=\"83.322109\"/>\r\n     <use style=\"fill:#00008b;stroke:#00008b;\" x=\"192.194892\" xlink:href=\"#m83bdc9655a\" y=\"107.335666\"/>\r\n     <use style=\"fill:#00008b;stroke:#00008b;\" x=\"203.936382\" xlink:href=\"#m83bdc9655a\" y=\"100.834362\"/>\r\n     <use style=\"fill:#00008b;stroke:#00008b;\" x=\"209.0621\" xlink:href=\"#m83bdc9655a\" y=\"130.631734\"/>\r\n     <use style=\"fill:#00008b;stroke:#00008b;\" x=\"157.854713\" xlink:href=\"#m83bdc9655a\" y=\"163.208885\"/>\r\n     <use style=\"fill:#00008b;stroke:#00008b;\" x=\"178.971545\" xlink:href=\"#m83bdc9655a\" y=\"110.950349\"/>\r\n     <use style=\"fill:#00008b;stroke:#00008b;\" x=\"227.32559\" xlink:href=\"#m83bdc9655a\" y=\"81.03579\"/>\r\n     <use style=\"fill:#00008b;stroke:#00008b;\" x=\"225.296215\" xlink:href=\"#m83bdc9655a\" y=\"114.710722\"/>\r\n     <use style=\"fill:#00008b;stroke:#00008b;\" x=\"188.207148\" xlink:href=\"#m83bdc9655a\" y=\"125.837985\"/>\r\n     <use style=\"fill:#00008b;stroke:#00008b;\" x=\"238.798201\" xlink:href=\"#m83bdc9655a\" y=\"109.241561\"/>\r\n     <use style=\"fill:#00008b;stroke:#00008b;\" x=\"150.248702\" xlink:href=\"#m83bdc9655a\" y=\"149.393739\"/>\r\n     <use style=\"fill:#00008b;stroke:#00008b;\" x=\"160.523827\" xlink:href=\"#m83bdc9655a\" y=\"132.463846\"/>\r\n     <use style=\"fill:#00008b;stroke:#00008b;\" x=\"164.334968\" xlink:href=\"#m83bdc9655a\" y=\"134.414868\"/>\r\n     <use style=\"fill:#00008b;stroke:#00008b;\" x=\"185.48656\" xlink:href=\"#m83bdc9655a\" y=\"146.479218\"/>\r\n     <use style=\"fill:#00008b;stroke:#00008b;\" x=\"181.682551\" xlink:href=\"#m83bdc9655a\" y=\"137.740616\"/>\r\n     <use style=\"fill:#00008b;stroke:#00008b;\" x=\"202.449568\" xlink:href=\"#m83bdc9655a\" y=\"101.615305\"/>\r\n     <use style=\"fill:#00008b;stroke:#00008b;\" x=\"183.380623\" xlink:href=\"#m83bdc9655a\" y=\"133.50274\"/>\r\n     <use style=\"fill:#00008b;stroke:#00008b;\" x=\"242.183887\" xlink:href=\"#m83bdc9655a\" y=\"53.611567\"/>\r\n     <use style=\"fill:#00008b;stroke:#00008b;\" x=\"148.942742\" xlink:href=\"#m83bdc9655a\" y=\"157.037067\"/>\r\n     <use style=\"fill:#00008b;stroke:#00008b;\" x=\"171.993999\" xlink:href=\"#m83bdc9655a\" y=\"144.399426\"/>\r\n     <use style=\"fill:#00008b;stroke:#00008b;\" x=\"213.215838\" xlink:href=\"#m83bdc9655a\" y=\"94.061828\"/>\r\n     <use style=\"fill:#00008b;stroke:#00008b;\" x=\"152.617153\" xlink:href=\"#m83bdc9655a\" y=\"146.416113\"/>\r\n     <use style=\"fill:#00008b;stroke:#00008b;\" x=\"247.440025\" xlink:href=\"#m83bdc9655a\" y=\"85.776238\"/>\r\n     <use style=\"fill:#00008b;stroke:#00008b;\" x=\"165.700513\" xlink:href=\"#m83bdc9655a\" y=\"105.682206\"/>\r\n     <use style=\"fill:#00008b;stroke:#00008b;\" x=\"185.323402\" xlink:href=\"#m83bdc9655a\" y=\"128.04449\"/>\r\n     <use style=\"fill:#00008b;stroke:#00008b;\" x=\"173.324097\" xlink:href=\"#m83bdc9655a\" y=\"127.360777\"/>\r\n     <use style=\"fill:#00008b;stroke:#00008b;\" x=\"176.770902\" xlink:href=\"#m83bdc9655a\" y=\"127.778517\"/>\r\n     <use style=\"fill:#00008b;stroke:#00008b;\" x=\"205.571567\" xlink:href=\"#m83bdc9655a\" y=\"115.674842\"/>\r\n     <use style=\"fill:#00008b;stroke:#00008b;\" x=\"217.836687\" xlink:href=\"#m83bdc9655a\" y=\"119.08148\"/>\r\n     <use style=\"fill:#00008b;stroke:#00008b;\" x=\"175.716544\" xlink:href=\"#m83bdc9655a\" y=\"107.260816\"/>\r\n     <use style=\"fill:#00008b;stroke:#00008b;\" x=\"240.63814\" xlink:href=\"#m83bdc9655a\" y=\"96.24975\"/>\r\n     <use style=\"fill:#00008b;stroke:#00008b;\" x=\"199.777138\" xlink:href=\"#m83bdc9655a\" y=\"98.888829\"/>\r\n     <use style=\"fill:#00008b;stroke:#00008b;\" x=\"174.870962\" xlink:href=\"#m83bdc9655a\" y=\"136.569363\"/>\r\n     <use style=\"fill:#00008b;stroke:#00008b;\" x=\"175.114855\" xlink:href=\"#m83bdc9655a\" y=\"133.117787\"/>\r\n     <use style=\"fill:#00008b;stroke:#00008b;\" x=\"202.797722\" xlink:href=\"#m83bdc9655a\" y=\"120.999547\"/>\r\n     <use style=\"fill:#00008b;stroke:#00008b;\" x=\"209.536938\" xlink:href=\"#m83bdc9655a\" y=\"96.876546\"/>\r\n     <use style=\"fill:#00008b;stroke:#00008b;\" x=\"202.641224\" xlink:href=\"#m83bdc9655a\" y=\"136.940487\"/>\r\n     <use style=\"fill:#00008b;stroke:#00008b;\" x=\"151.942299\" xlink:href=\"#m83bdc9655a\" y=\"120.922241\"/>\r\n     <use style=\"fill:#00008b;stroke:#00008b;\" x=\"170.121709\" xlink:href=\"#m83bdc9655a\" y=\"158.088188\"/>\r\n     <use style=\"fill:#00008b;stroke:#00008b;\" x=\"221.071836\" xlink:href=\"#m83bdc9655a\" y=\"97.767536\"/>\r\n     <use style=\"fill:#00008b;stroke:#00008b;\" x=\"224.858437\" xlink:href=\"#m83bdc9655a\" y=\"82.865912\"/>\r\n     <use style=\"fill:#00008b;stroke:#00008b;\" x=\"233.796159\" xlink:href=\"#m83bdc9655a\" y=\"120.399347\"/>\r\n     <use style=\"fill:#00008b;stroke:#00008b;\" x=\"158.193706\" xlink:href=\"#m83bdc9655a\" y=\"146.421694\"/>\r\n     <use style=\"fill:#00008b;stroke:#00008b;\" x=\"145.619562\" xlink:href=\"#m83bdc9655a\" y=\"149.879027\"/>\r\n     <use style=\"fill:#00008b;stroke:#00008b;\" x=\"213.479788\" xlink:href=\"#m83bdc9655a\" y=\"130.210737\"/>\r\n     <use style=\"fill:#00008b;stroke:#00008b;\" x=\"192.0246\" xlink:href=\"#m83bdc9655a\" y=\"117.43744\"/>\r\n     <use style=\"fill:#00008b;stroke:#00008b;\" x=\"181.035509\" xlink:href=\"#m83bdc9655a\" y=\"138.864792\"/>\r\n     <use style=\"fill:#00008b;stroke:#00008b;\" x=\"264.776261\" xlink:href=\"#m83bdc9655a\" y=\"69.921071\"/>\r\n     <use style=\"fill:#00008b;stroke:#00008b;\" x=\"185.293635\" xlink:href=\"#m83bdc9655a\" y=\"96.069419\"/>\r\n     <use style=\"fill:#00008b;stroke:#00008b;\" x=\"225.296478\" xlink:href=\"#m83bdc9655a\" y=\"88.877717\"/>\r\n     <use style=\"fill:#00008b;stroke:#00008b;\" x=\"162.042777\" xlink:href=\"#m83bdc9655a\" y=\"142.695885\"/>\r\n     <use style=\"fill:#00008b;stroke:#00008b;\" x=\"220.073722\" xlink:href=\"#m83bdc9655a\" y=\"106.596375\"/>\r\n     <use style=\"fill:#00008b;stroke:#00008b;\" x=\"168.267451\" xlink:href=\"#m83bdc9655a\" y=\"158.110999\"/>\r\n     <use style=\"fill:#00008b;stroke:#00008b;\" x=\"223.441648\" xlink:href=\"#m83bdc9655a\" y=\"105.620977\"/>\r\n     <use style=\"fill:#00008b;stroke:#00008b;\" x=\"223.342302\" xlink:href=\"#m83bdc9655a\" y=\"101.263839\"/>\r\n     <use style=\"fill:#00008b;stroke:#00008b;\" x=\"154.058759\" xlink:href=\"#m83bdc9655a\" y=\"141.965801\"/>\r\n     <use style=\"fill:#00008b;stroke:#00008b;\" x=\"230.047035\" xlink:href=\"#m83bdc9655a\" y=\"109.44092\"/>\r\n     <use style=\"fill:#00008b;stroke:#00008b;\" x=\"226.168651\" xlink:href=\"#m83bdc9655a\" y=\"77.648546\"/>\r\n     <use style=\"fill:#00008b;stroke:#00008b;\" x=\"215.390197\" xlink:href=\"#m83bdc9655a\" y=\"107.234369\"/>\r\n     <use style=\"fill:#00008b;stroke:#00008b;\" x=\"205.571829\" xlink:href=\"#m83bdc9655a\" y=\"121.383578\"/>\r\n     <use style=\"fill:#00008b;stroke:#00008b;\" x=\"203.094237\" xlink:href=\"#m83bdc9655a\" y=\"121.499949\"/>\r\n     <use style=\"fill:#00008b;stroke:#00008b;\" x=\"184.429384\" xlink:href=\"#m83bdc9655a\" y=\"115.299396\"/>\r\n     <use style=\"fill:#00008b;stroke:#00008b;\" x=\"165.349\" xlink:href=\"#m83bdc9655a\" y=\"133.588548\"/>\r\n     <use style=\"fill:#00008b;stroke:#00008b;\" x=\"149.77724\" xlink:href=\"#m83bdc9655a\" y=\"124.973288\"/>\r\n     <use style=\"fill:#00008b;stroke:#00008b;\" x=\"213.574194\" xlink:href=\"#m83bdc9655a\" y=\"97.514982\"/>\r\n     <use style=\"fill:#00008b;stroke:#00008b;\" x=\"259.917691\" xlink:href=\"#m83bdc9655a\" y=\"54.190912\"/>\r\n     <use style=\"fill:#00008b;stroke:#00008b;\" x=\"190.637248\" xlink:href=\"#m83bdc9655a\" y=\"90.9013\"/>\r\n     <use style=\"fill:#00008b;stroke:#00008b;\" x=\"258.54537\" xlink:href=\"#m83bdc9655a\" y=\"79.328318\"/>\r\n     <use style=\"fill:#00008b;stroke:#00008b;\" x=\"202.317457\" xlink:href=\"#m83bdc9655a\" y=\"103.647476\"/>\r\n     <use style=\"fill:#00008b;stroke:#00008b;\" x=\"199.88744\" xlink:href=\"#m83bdc9655a\" y=\"117.638459\"/>\r\n     <use style=\"fill:#00008b;stroke:#00008b;\" x=\"202.346362\" xlink:href=\"#m83bdc9655a\" y=\"98.162484\"/>\r\n     <use style=\"fill:#00008b;stroke:#00008b;\" x=\"196.536653\" xlink:href=\"#m83bdc9655a\" y=\"126.37711\"/>\r\n     <use style=\"fill:#00008b;stroke:#00008b;\" x=\"125.760197\" xlink:href=\"#m83bdc9655a\" y=\"145.334113\"/>\r\n    </g>\r\n   </g>\r\n   <g id=\"matplotlib.axis_1\">\r\n    <g id=\"xtick_1\">\r\n     <g id=\"line2d_1\">\r\n      <defs>\r\n       <path d=\"M 0 0 \r\nL 0 3.5 \r\n\" id=\"md6601fd27a\" style=\"stroke:#000000;stroke-width:0.8;\"/>\r\n      </defs>\r\n      <g>\r\n       <use style=\"stroke:#000000;stroke-width:0.8;\" x=\"48.505682\" xlink:href=\"#md6601fd27a\" y=\"224.64\"/>\r\n      </g>\r\n     </g>\r\n     <g id=\"text_1\">\r\n      <!-- 0 -->\r\n      <g transform=\"translate(45.324432 239.238437)scale(0.1 -0.1)\">\r\n       <defs>\r\n        <path d=\"M 31.78125 66.40625 \r\nQ 24.171875 66.40625 20.328125 58.90625 \r\nQ 16.5 51.421875 16.5 36.375 \r\nQ 16.5 21.390625 20.328125 13.890625 \r\nQ 24.171875 6.390625 31.78125 6.390625 \r\nQ 39.453125 6.390625 43.28125 13.890625 \r\nQ 47.125 21.390625 47.125 36.375 \r\nQ 47.125 51.421875 43.28125 58.90625 \r\nQ 39.453125 66.40625 31.78125 66.40625 \r\nz\r\nM 31.78125 74.21875 \r\nQ 44.046875 74.21875 50.515625 64.515625 \r\nQ 56.984375 54.828125 56.984375 36.375 \r\nQ 56.984375 17.96875 50.515625 8.265625 \r\nQ 44.046875 -1.421875 31.78125 -1.421875 \r\nQ 19.53125 -1.421875 13.0625 8.265625 \r\nQ 6.59375 17.96875 6.59375 36.375 \r\nQ 6.59375 54.828125 13.0625 64.515625 \r\nQ 19.53125 74.21875 31.78125 74.21875 \r\nz\r\n\" id=\"DejaVuSans-48\"/>\r\n       </defs>\r\n       <use xlink:href=\"#DejaVuSans-48\"/>\r\n      </g>\r\n     </g>\r\n    </g>\r\n    <g id=\"xtick_2\">\r\n     <g id=\"line2d_2\">\r\n      <g>\r\n       <use style=\"stroke:#000000;stroke-width:0.8;\" x=\"109.993285\" xlink:href=\"#md6601fd27a\" y=\"224.64\"/>\r\n      </g>\r\n     </g>\r\n     <g id=\"text_2\">\r\n      <!-- 20 -->\r\n      <g transform=\"translate(103.630785 239.238437)scale(0.1 -0.1)\">\r\n       <defs>\r\n        <path d=\"M 19.1875 8.296875 \r\nL 53.609375 8.296875 \r\nL 53.609375 0 \r\nL 7.328125 0 \r\nL 7.328125 8.296875 \r\nQ 12.9375 14.109375 22.625 23.890625 \r\nQ 32.328125 33.6875 34.8125 36.53125 \r\nQ 39.546875 41.84375 41.421875 45.53125 \r\nQ 43.3125 49.21875 43.3125 52.78125 \r\nQ 43.3125 58.59375 39.234375 62.25 \r\nQ 35.15625 65.921875 28.609375 65.921875 \r\nQ 23.96875 65.921875 18.8125 64.3125 \r\nQ 13.671875 62.703125 7.8125 59.421875 \r\nL 7.8125 69.390625 \r\nQ 13.765625 71.78125 18.9375 73 \r\nQ 24.125 74.21875 28.421875 74.21875 \r\nQ 39.75 74.21875 46.484375 68.546875 \r\nQ 53.21875 62.890625 53.21875 53.421875 \r\nQ 53.21875 48.921875 51.53125 44.890625 \r\nQ 49.859375 40.875 45.40625 35.40625 \r\nQ 44.1875 33.984375 37.640625 27.21875 \r\nQ 31.109375 20.453125 19.1875 8.296875 \r\nz\r\n\" id=\"DejaVuSans-50\"/>\r\n       </defs>\r\n       <use xlink:href=\"#DejaVuSans-50\"/>\r\n       <use x=\"63.623047\" xlink:href=\"#DejaVuSans-48\"/>\r\n      </g>\r\n     </g>\r\n    </g>\r\n    <g id=\"xtick_3\">\r\n     <g id=\"line2d_3\">\r\n      <g>\r\n       <use style=\"stroke:#000000;stroke-width:0.8;\" x=\"171.480888\" xlink:href=\"#md6601fd27a\" y=\"224.64\"/>\r\n      </g>\r\n     </g>\r\n     <g id=\"text_3\">\r\n      <!-- 40 -->\r\n      <g transform=\"translate(165.118388 239.238437)scale(0.1 -0.1)\">\r\n       <defs>\r\n        <path d=\"M 37.796875 64.3125 \r\nL 12.890625 25.390625 \r\nL 37.796875 25.390625 \r\nz\r\nM 35.203125 72.90625 \r\nL 47.609375 72.90625 \r\nL 47.609375 25.390625 \r\nL 58.015625 25.390625 \r\nL 58.015625 17.1875 \r\nL 47.609375 17.1875 \r\nL 47.609375 0 \r\nL 37.796875 0 \r\nL 37.796875 17.1875 \r\nL 4.890625 17.1875 \r\nL 4.890625 26.703125 \r\nz\r\n\" id=\"DejaVuSans-52\"/>\r\n       </defs>\r\n       <use xlink:href=\"#DejaVuSans-52\"/>\r\n       <use x=\"63.623047\" xlink:href=\"#DejaVuSans-48\"/>\r\n      </g>\r\n     </g>\r\n    </g>\r\n    <g id=\"xtick_4\">\r\n     <g id=\"line2d_4\">\r\n      <g>\r\n       <use style=\"stroke:#000000;stroke-width:0.8;\" x=\"232.968492\" xlink:href=\"#md6601fd27a\" y=\"224.64\"/>\r\n      </g>\r\n     </g>\r\n     <g id=\"text_4\">\r\n      <!-- 60 -->\r\n      <g transform=\"translate(226.605992 239.238437)scale(0.1 -0.1)\">\r\n       <defs>\r\n        <path d=\"M 33.015625 40.375 \r\nQ 26.375 40.375 22.484375 35.828125 \r\nQ 18.609375 31.296875 18.609375 23.390625 \r\nQ 18.609375 15.53125 22.484375 10.953125 \r\nQ 26.375 6.390625 33.015625 6.390625 \r\nQ 39.65625 6.390625 43.53125 10.953125 \r\nQ 47.40625 15.53125 47.40625 23.390625 \r\nQ 47.40625 31.296875 43.53125 35.828125 \r\nQ 39.65625 40.375 33.015625 40.375 \r\nz\r\nM 52.59375 71.296875 \r\nL 52.59375 62.3125 \r\nQ 48.875 64.0625 45.09375 64.984375 \r\nQ 41.3125 65.921875 37.59375 65.921875 \r\nQ 27.828125 65.921875 22.671875 59.328125 \r\nQ 17.53125 52.734375 16.796875 39.40625 \r\nQ 19.671875 43.65625 24.015625 45.921875 \r\nQ 28.375 48.1875 33.59375 48.1875 \r\nQ 44.578125 48.1875 50.953125 41.515625 \r\nQ 57.328125 34.859375 57.328125 23.390625 \r\nQ 57.328125 12.15625 50.6875 5.359375 \r\nQ 44.046875 -1.421875 33.015625 -1.421875 \r\nQ 20.359375 -1.421875 13.671875 8.265625 \r\nQ 6.984375 17.96875 6.984375 36.375 \r\nQ 6.984375 53.65625 15.1875 63.9375 \r\nQ 23.390625 74.21875 37.203125 74.21875 \r\nQ 40.921875 74.21875 44.703125 73.484375 \r\nQ 48.484375 72.75 52.59375 71.296875 \r\nz\r\n\" id=\"DejaVuSans-54\"/>\r\n       </defs>\r\n       <use xlink:href=\"#DejaVuSans-54\"/>\r\n       <use x=\"63.623047\" xlink:href=\"#DejaVuSans-48\"/>\r\n      </g>\r\n     </g>\r\n    </g>\r\n    <g id=\"xtick_5\">\r\n     <g id=\"line2d_5\">\r\n      <g>\r\n       <use style=\"stroke:#000000;stroke-width:0.8;\" x=\"294.456095\" xlink:href=\"#md6601fd27a\" y=\"224.64\"/>\r\n      </g>\r\n     </g>\r\n     <g id=\"text_5\">\r\n      <!-- 80 -->\r\n      <g transform=\"translate(288.093595 239.238437)scale(0.1 -0.1)\">\r\n       <defs>\r\n        <path d=\"M 31.78125 34.625 \r\nQ 24.75 34.625 20.71875 30.859375 \r\nQ 16.703125 27.09375 16.703125 20.515625 \r\nQ 16.703125 13.921875 20.71875 10.15625 \r\nQ 24.75 6.390625 31.78125 6.390625 \r\nQ 38.8125 6.390625 42.859375 10.171875 \r\nQ 46.921875 13.96875 46.921875 20.515625 \r\nQ 46.921875 27.09375 42.890625 30.859375 \r\nQ 38.875 34.625 31.78125 34.625 \r\nz\r\nM 21.921875 38.8125 \r\nQ 15.578125 40.375 12.03125 44.71875 \r\nQ 8.5 49.078125 8.5 55.328125 \r\nQ 8.5 64.0625 14.71875 69.140625 \r\nQ 20.953125 74.21875 31.78125 74.21875 \r\nQ 42.671875 74.21875 48.875 69.140625 \r\nQ 55.078125 64.0625 55.078125 55.328125 \r\nQ 55.078125 49.078125 51.53125 44.71875 \r\nQ 48 40.375 41.703125 38.8125 \r\nQ 48.828125 37.15625 52.796875 32.3125 \r\nQ 56.78125 27.484375 56.78125 20.515625 \r\nQ 56.78125 9.90625 50.3125 4.234375 \r\nQ 43.84375 -1.421875 31.78125 -1.421875 \r\nQ 19.734375 -1.421875 13.25 4.234375 \r\nQ 6.78125 9.90625 6.78125 20.515625 \r\nQ 6.78125 27.484375 10.78125 32.3125 \r\nQ 14.796875 37.15625 21.921875 38.8125 \r\nz\r\nM 18.3125 54.390625 \r\nQ 18.3125 48.734375 21.84375 45.5625 \r\nQ 25.390625 42.390625 31.78125 42.390625 \r\nQ 38.140625 42.390625 41.71875 45.5625 \r\nQ 45.3125 48.734375 45.3125 54.390625 \r\nQ 45.3125 60.0625 41.71875 63.234375 \r\nQ 38.140625 66.40625 31.78125 66.40625 \r\nQ 25.390625 66.40625 21.84375 63.234375 \r\nQ 18.3125 60.0625 18.3125 54.390625 \r\nz\r\n\" id=\"DejaVuSans-56\"/>\r\n       </defs>\r\n       <use xlink:href=\"#DejaVuSans-56\"/>\r\n       <use x=\"63.623047\" xlink:href=\"#DejaVuSans-48\"/>\r\n      </g>\r\n     </g>\r\n    </g>\r\n    <g id=\"xtick_6\">\r\n     <g id=\"line2d_6\">\r\n      <g>\r\n       <use style=\"stroke:#000000;stroke-width:0.8;\" x=\"355.943698\" xlink:href=\"#md6601fd27a\" y=\"224.64\"/>\r\n      </g>\r\n     </g>\r\n     <g id=\"text_6\">\r\n      <!-- 100 -->\r\n      <g transform=\"translate(346.399948 239.238437)scale(0.1 -0.1)\">\r\n       <defs>\r\n        <path d=\"M 12.40625 8.296875 \r\nL 28.515625 8.296875 \r\nL 28.515625 63.921875 \r\nL 10.984375 60.40625 \r\nL 10.984375 69.390625 \r\nL 28.421875 72.90625 \r\nL 38.28125 72.90625 \r\nL 38.28125 8.296875 \r\nL 54.390625 8.296875 \r\nL 54.390625 0 \r\nL 12.40625 0 \r\nz\r\n\" id=\"DejaVuSans-49\"/>\r\n       </defs>\r\n       <use xlink:href=\"#DejaVuSans-49\"/>\r\n       <use x=\"63.623047\" xlink:href=\"#DejaVuSans-48\"/>\r\n       <use x=\"127.246094\" xlink:href=\"#DejaVuSans-48\"/>\r\n      </g>\r\n     </g>\r\n    </g>\r\n   </g>\r\n   <g id=\"matplotlib.axis_2\">\r\n    <g id=\"ytick_1\">\r\n     <g id=\"line2d_7\">\r\n      <defs>\r\n       <path d=\"M 0 0 \r\nL -3.5 0 \r\n\" id=\"madedba6723\" style=\"stroke:#000000;stroke-width:0.8;\"/>\r\n      </defs>\r\n      <g>\r\n       <use style=\"stroke:#000000;stroke-width:0.8;\" x=\"33.2875\" xlink:href=\"#madedba6723\" y=\"194.994805\"/>\r\n      </g>\r\n     </g>\r\n     <g id=\"text_7\">\r\n      <!-- 20 -->\r\n      <g transform=\"translate(13.5625 198.794024)scale(0.1 -0.1)\">\r\n       <use xlink:href=\"#DejaVuSans-50\"/>\r\n       <use x=\"63.623047\" xlink:href=\"#DejaVuSans-48\"/>\r\n      </g>\r\n     </g>\r\n    </g>\r\n    <g id=\"ytick_2\">\r\n     <g id=\"line2d_8\">\r\n      <g>\r\n       <use style=\"stroke:#000000;stroke-width:0.8;\" x=\"33.2875\" xlink:href=\"#madedba6723\" y=\"165.306214\"/>\r\n      </g>\r\n     </g>\r\n     <g id=\"text_8\">\r\n      <!-- 40 -->\r\n      <g transform=\"translate(13.5625 169.105432)scale(0.1 -0.1)\">\r\n       <use xlink:href=\"#DejaVuSans-52\"/>\r\n       <use x=\"63.623047\" xlink:href=\"#DejaVuSans-48\"/>\r\n      </g>\r\n     </g>\r\n    </g>\r\n    <g id=\"ytick_3\">\r\n     <g id=\"line2d_9\">\r\n      <g>\r\n       <use style=\"stroke:#000000;stroke-width:0.8;\" x=\"33.2875\" xlink:href=\"#madedba6723\" y=\"135.617622\"/>\r\n      </g>\r\n     </g>\r\n     <g id=\"text_9\">\r\n      <!-- 60 -->\r\n      <g transform=\"translate(13.5625 139.416841)scale(0.1 -0.1)\">\r\n       <use xlink:href=\"#DejaVuSans-54\"/>\r\n       <use x=\"63.623047\" xlink:href=\"#DejaVuSans-48\"/>\r\n      </g>\r\n     </g>\r\n    </g>\r\n    <g id=\"ytick_4\">\r\n     <g id=\"line2d_10\">\r\n      <g>\r\n       <use style=\"stroke:#000000;stroke-width:0.8;\" x=\"33.2875\" xlink:href=\"#madedba6723\" y=\"105.92903\"/>\r\n      </g>\r\n     </g>\r\n     <g id=\"text_10\">\r\n      <!-- 80 -->\r\n      <g transform=\"translate(13.5625 109.728249)scale(0.1 -0.1)\">\r\n       <use xlink:href=\"#DejaVuSans-56\"/>\r\n       <use x=\"63.623047\" xlink:href=\"#DejaVuSans-48\"/>\r\n      </g>\r\n     </g>\r\n    </g>\r\n    <g id=\"ytick_5\">\r\n     <g id=\"line2d_11\">\r\n      <g>\r\n       <use style=\"stroke:#000000;stroke-width:0.8;\" x=\"33.2875\" xlink:href=\"#madedba6723\" y=\"76.240438\"/>\r\n      </g>\r\n     </g>\r\n     <g id=\"text_11\">\r\n      <!-- 100 -->\r\n      <g transform=\"translate(7.2 80.039657)scale(0.1 -0.1)\">\r\n       <use xlink:href=\"#DejaVuSans-49\"/>\r\n       <use x=\"63.623047\" xlink:href=\"#DejaVuSans-48\"/>\r\n       <use x=\"127.246094\" xlink:href=\"#DejaVuSans-48\"/>\r\n      </g>\r\n     </g>\r\n    </g>\r\n    <g id=\"ytick_6\">\r\n     <g id=\"line2d_12\">\r\n      <g>\r\n       <use style=\"stroke:#000000;stroke-width:0.8;\" x=\"33.2875\" xlink:href=\"#madedba6723\" y=\"46.551847\"/>\r\n      </g>\r\n     </g>\r\n     <g id=\"text_12\">\r\n      <!-- 120 -->\r\n      <g transform=\"translate(7.2 50.351065)scale(0.1 -0.1)\">\r\n       <use xlink:href=\"#DejaVuSans-49\"/>\r\n       <use x=\"63.623047\" xlink:href=\"#DejaVuSans-50\"/>\r\n       <use x=\"127.246094\" xlink:href=\"#DejaVuSans-48\"/>\r\n      </g>\r\n     </g>\r\n    </g>\r\n    <g id=\"ytick_7\">\r\n     <g id=\"line2d_13\">\r\n      <g>\r\n       <use style=\"stroke:#000000;stroke-width:0.8;\" x=\"33.2875\" xlink:href=\"#madedba6723\" y=\"16.863255\"/>\r\n      </g>\r\n     </g>\r\n     <g id=\"text_13\">\r\n      <!-- 140 -->\r\n      <g transform=\"translate(7.2 20.662474)scale(0.1 -0.1)\">\r\n       <use xlink:href=\"#DejaVuSans-49\"/>\r\n       <use x=\"63.623047\" xlink:href=\"#DejaVuSans-52\"/>\r\n       <use x=\"127.246094\" xlink:href=\"#DejaVuSans-48\"/>\r\n      </g>\r\n     </g>\r\n    </g>\r\n   </g>\r\n   <g id=\"line2d_14\">\r\n    <path clip-path=\"url(#p622fbecb7a)\" d=\"M 48.505682 214.756364 \r\nL 51.580062 212.759669 \r\nL 54.654442 210.762975 \r\nL 57.728822 208.766281 \r\nL 60.803202 206.769587 \r\nL 63.877583 204.772893 \r\nL 66.951963 202.776198 \r\nL 70.026343 200.779504 \r\nL 73.100723 198.78281 \r\nL 76.175103 196.786116 \r\nL 79.249483 194.789421 \r\nL 82.323864 192.792727 \r\nL 85.398244 190.796033 \r\nL 88.472624 188.799339 \r\nL 91.547004 186.802645 \r\nL 94.621384 184.80595 \r\nL 97.695764 182.809256 \r\nL 100.770145 180.812562 \r\nL 103.844525 178.815868 \r\nL 106.918905 176.819174 \r\nL 109.993285 174.822479 \r\nL 113.067665 172.825785 \r\nL 116.142045 170.829091 \r\nL 119.216426 168.832397 \r\nL 122.290806 166.835702 \r\nL 125.365186 164.839008 \r\nL 128.439566 162.842314 \r\nL 131.513946 160.84562 \r\nL 134.588326 158.848926 \r\nL 137.662707 156.852231 \r\nL 140.737087 154.855537 \r\nL 143.811467 152.858843 \r\nL 146.885847 150.862149 \r\nL 149.960227 148.865455 \r\nL 153.034607 146.86876 \r\nL 156.108988 144.872066 \r\nL 159.183368 142.875372 \r\nL 162.257748 140.878678 \r\nL 165.332128 138.881983 \r\nL 168.406508 136.885289 \r\nL 171.480888 134.888595 \r\nL 174.555269 132.891901 \r\nL 177.629649 130.895207 \r\nL 180.704029 128.898512 \r\nL 183.778409 126.901818 \r\nL 186.852789 124.905124 \r\nL 189.927169 122.90843 \r\nL 193.00155 120.911736 \r\nL 196.07593 118.915041 \r\nL 199.15031 116.918347 \r\nL 202.22469 114.921653 \r\nL 205.29907 112.924959 \r\nL 208.37345 110.928264 \r\nL 211.447831 108.93157 \r\nL 214.522211 106.934876 \r\nL 217.596591 104.938182 \r\nL 220.670971 102.941488 \r\nL 223.745351 100.944793 \r\nL 226.819731 98.948099 \r\nL 229.894112 96.951405 \r\nL 232.968492 94.954711 \r\nL 236.042872 92.958017 \r\nL 239.117252 90.961322 \r\nL 242.191632 88.964628 \r\nL 245.266012 86.967934 \r\nL 248.340393 84.97124 \r\nL 251.414773 82.974545 \r\nL 254.489153 80.977851 \r\nL 257.563533 78.981157 \r\nL 260.637913 76.984463 \r\nL 263.712293 74.987769 \r\nL 266.786674 72.991074 \r\nL 269.861054 70.99438 \r\nL 272.935434 68.997686 \r\nL 276.009814 67.000992 \r\nL 279.084194 65.004298 \r\nL 282.158574 63.007603 \r\nL 285.232955 61.010909 \r\nL 288.307335 59.014215 \r\nL 291.381715 57.017521 \r\nL 294.456095 55.020826 \r\nL 297.530475 53.024132 \r\nL 300.604855 51.027438 \r\nL 303.679236 49.030744 \r\nL 306.753616 47.03405 \r\nL 309.827996 45.037355 \r\nL 312.902376 43.040661 \r\nL 315.976756 41.043967 \r\nL 319.051136 39.047273 \r\nL 322.125517 37.050579 \r\nL 325.199897 35.053884 \r\nL 328.274277 33.05719 \r\nL 331.348657 31.060496 \r\nL 334.423037 29.063802 \r\nL 337.497417 27.067107 \r\nL 340.571798 25.070413 \r\nL 343.646178 23.073719 \r\nL 346.720558 21.077025 \r\nL 349.794938 19.080331 \r\nL 352.869318 17.083636 \r\n\" style=\"fill:none;stroke:#1f77b4;stroke-linecap:square;stroke-width:1.5;\"/>\r\n   </g>\r\n   <g id=\"patch_3\">\r\n    <path d=\"M 33.2875 224.64 \r\nL 33.2875 7.2 \r\n\" style=\"fill:none;stroke:#000000;stroke-linecap:square;stroke-linejoin:miter;stroke-width:0.8;\"/>\r\n   </g>\r\n   <g id=\"patch_4\">\r\n    <path d=\"M 368.0875 224.64 \r\nL 368.0875 7.2 \r\n\" style=\"fill:none;stroke:#000000;stroke-linecap:square;stroke-linejoin:miter;stroke-width:0.8;\"/>\r\n   </g>\r\n   <g id=\"patch_5\">\r\n    <path d=\"M 33.2875 224.64 \r\nL 368.0875 224.64 \r\n\" style=\"fill:none;stroke:#000000;stroke-linecap:square;stroke-linejoin:miter;stroke-width:0.8;\"/>\r\n   </g>\r\n   <g id=\"patch_6\">\r\n    <path d=\"M 33.2875 7.2 \r\nL 368.0875 7.2 \r\n\" style=\"fill:none;stroke:#000000;stroke-linecap:square;stroke-linejoin:miter;stroke-width:0.8;\"/>\r\n   </g>\r\n  </g>\r\n </g>\r\n <defs>\r\n  <clipPath id=\"p622fbecb7a\">\r\n   <rect height=\"217.44\" width=\"334.8\" x=\"33.2875\" y=\"7.2\"/>\r\n  </clipPath>\r\n </defs>\r\n</svg>\r\n",
      "image/png": "[encoded data removed]"
     },
     "metadata": {
      "needs_background": "light"
     }
    }
   ],
   "source": [
    "#plot the data (scatter)\n",
    "plt.plot(y)\n",
    "plt.scatter(x=df['X'],\n",
    "                      y=df['Y'],\n",
    "                      c='DarkBlue')\n",
    "plt.show()"
   ]
  },
  {
   "cell_type": "code",
   "execution_count": 87,
   "metadata": {
    "deletable": false,
    "nbgrader": {
     "cell_type": "code",
     "checksum": "d16bf3084328cb8a753640746109deb6",
     "grade": false,
     "grade_id": "cell-54891567ed3179cb",
     "locked": false,
     "schema_version": 3,
     "solution": true,
     "task": false
    }
   },
   "outputs": [],
   "source": [
    "x_train, x_test, y_train, y_test = train_test_split(df['X'],df['Y'], test_size=0.2, random_state=0)\n",
    "...\n",
    "#assert x_train.shape == (80,)\n",
    "#assert x_test.shape == (20,)\n",
    "##assert y_train.shape == (80,)\n",
    "#assert y_test.shape == (20,)"
   ]
  },
  {
   "cell_type": "code",
   "execution_count": null,
   "metadata": {
    "deletable": false,
    "editable": false,
    "nbgrader": {
     "cell_type": "code",
     "checksum": "913a83d14800f18572c1736c6c376038",
     "grade": true,
     "grade_id": "cell-161d857ab77810d3",
     "locked": true,
     "points": 1,
     "schema_version": 3,
     "solution": false,
     "task": false
    }
   },
   "outputs": [],
   "source": [
    "assert x_train.shape == (80,)\n",
    "assert x_test.shape == (20,)\n",
    "assert y_train.shape == (80,)\n",
    "assert y_test.shape == (20,)"
   ]
  },
  {
   "cell_type": "code",
   "execution_count": null,
   "metadata": {},
   "outputs": [],
   "source": [
    "df.describe()"
   ]
  },
  {
   "cell_type": "code",
   "execution_count": 101,
   "metadata": {
    "deletable": false,
    "nbgrader": {
     "cell_type": "code",
     "checksum": "7f783828630939c2e095a32479fa8a95",
     "grade": false,
     "grade_id": "cell-d5e750d407949b20",
     "locked": false,
     "schema_version": 3,
     "solution": true,
     "task": false
    }
   },
   "outputs": [
    {
     "output_type": "stream",
     "name": "stdout",
     "text": [
      "(80,)\n1.3450919020620415\n6.687439682550206\n"
     ]
    },
    {
     "output_type": "display_data",
     "data": {
      "text/plain": "<Figure size 432x288 with 1 Axes>",
      "image/svg+xml": "<?xml version=\"1.0\" encoding=\"utf-8\" standalone=\"no\"?>\r\n<!DOCTYPE svg PUBLIC \"-//W3C//DTD SVG 1.1//EN\"\r\n  \"http://www.w3.org/Graphics/SVG/1.1/DTD/svg11.dtd\">\r\n<!-- Created with matplotlib (https://matplotlib.org/) -->\r\n<svg height=\"248.518125pt\" version=\"1.1\" viewBox=\"0 0 375.2875 248.518125\" width=\"375.2875pt\" xmlns=\"http://www.w3.org/2000/svg\" xmlns:xlink=\"http://www.w3.org/1999/xlink\">\r\n <metadata>\r\n  <rdf:RDF xmlns:cc=\"http://creativecommons.org/ns#\" xmlns:dc=\"http://purl.org/dc/elements/1.1/\" xmlns:rdf=\"http://www.w3.org/1999/02/22-rdf-syntax-ns#\">\r\n   <cc:Work>\r\n    <dc:type rdf:resource=\"http://purl.org/dc/dcmitype/StillImage\"/>\r\n    <dc:date>2021-04-20T17:59:01.979027</dc:date>\r\n    <dc:format>image/svg+xml</dc:format>\r\n    <dc:creator>\r\n     <cc:Agent>\r\n      <dc:title>Matplotlib v3.3.2, https://matplotlib.org/</dc:title>\r\n     </cc:Agent>\r\n    </dc:creator>\r\n   </cc:Work>\r\n  </rdf:RDF>\r\n </metadata>\r\n <defs>\r\n  <style type=\"text/css\">*{stroke-linecap:butt;stroke-linejoin:round;}</style>\r\n </defs>\r\n <g id=\"figure_1\">\r\n  <g id=\"patch_1\">\r\n   <path d=\"M 0 248.518125 \r\nL 375.2875 248.518125 \r\nL 375.2875 0 \r\nL 0 0 \r\nz\r\n\" style=\"fill:none;\"/>\r\n  </g>\r\n  <g id=\"axes_1\">\r\n   <g id=\"patch_2\">\r\n    <path d=\"M 33.2875 224.64 \r\nL 368.0875 224.64 \r\nL 368.0875 7.2 \r\nL 33.2875 7.2 \r\nz\r\n\" style=\"fill:#ffffff;\"/>\r\n   </g>\r\n   <g id=\"PathCollection_1\">\r\n    <defs>\r\n     <path d=\"M 0 3 \r\nC 0.795609 3 1.55874 2.683901 2.12132 2.12132 \r\nC 2.683901 1.55874 3 0.795609 3 0 \r\nC 3 -0.795609 2.683901 -1.55874 2.12132 -2.12132 \r\nC 1.55874 -2.683901 0.795609 -3 0 -3 \r\nC -0.795609 -3 -1.55874 -2.683901 -2.12132 -2.12132 \r\nC -2.683901 -1.55874 -3 -0.795609 -3 0 \r\nC -3 0.795609 -2.683901 1.55874 -2.12132 2.12132 \r\nC -1.55874 2.683901 -0.795609 3 0 3 \r\nz\r\n\" id=\"m0939d3b676\" style=\"stroke:#1f77b4;\"/>\r\n    </defs>\r\n    <g clip-path=\"url(#pdc3937967e)\">\r\n     <use style=\"fill:#1f77b4;stroke:#1f77b4;\" x=\"183.380623\" xlink:href=\"#m0939d3b676\" y=\"133.50274\"/>\r\n     <use style=\"fill:#1f77b4;stroke:#1f77b4;\" x=\"209.536938\" xlink:href=\"#m0939d3b676\" y=\"96.876546\"/>\r\n     <use style=\"fill:#1f77b4;stroke:#1f77b4;\" x=\"194.463847\" xlink:href=\"#m0939d3b676\" y=\"118.477459\"/>\r\n     <use style=\"fill:#1f77b4;stroke:#1f77b4;\" x=\"213.479788\" xlink:href=\"#m0939d3b676\" y=\"130.210737\"/>\r\n     <use style=\"fill:#1f77b4;stroke:#1f77b4;\" x=\"148.942742\" xlink:href=\"#m0939d3b676\" y=\"157.037067\"/>\r\n     <use style=\"fill:#1f77b4;stroke:#1f77b4;\" x=\"152.617153\" xlink:href=\"#m0939d3b676\" y=\"146.416113\"/>\r\n     <use style=\"fill:#1f77b4;stroke:#1f77b4;\" x=\"209.024594\" xlink:href=\"#m0939d3b676\" y=\"106.460496\"/>\r\n     <use style=\"fill:#1f77b4;stroke:#1f77b4;\" x=\"125.760197\" xlink:href=\"#m0939d3b676\" y=\"145.334113\"/>\r\n     <use style=\"fill:#1f77b4;stroke:#1f77b4;\" x=\"154.058759\" xlink:href=\"#m0939d3b676\" y=\"141.965801\"/>\r\n     <use style=\"fill:#1f77b4;stroke:#1f77b4;\" x=\"225.296478\" xlink:href=\"#m0939d3b676\" y=\"88.877717\"/>\r\n     <use style=\"fill:#1f77b4;stroke:#1f77b4;\" x=\"175.114855\" xlink:href=\"#m0939d3b676\" y=\"133.117787\"/>\r\n     <use style=\"fill:#1f77b4;stroke:#1f77b4;\" x=\"223.441648\" xlink:href=\"#m0939d3b676\" y=\"105.620977\"/>\r\n     <use style=\"fill:#1f77b4;stroke:#1f77b4;\" x=\"149.77724\" xlink:href=\"#m0939d3b676\" y=\"124.973288\"/>\r\n     <use style=\"fill:#1f77b4;stroke:#1f77b4;\" x=\"233.796159\" xlink:href=\"#m0939d3b676\" y=\"120.399347\"/>\r\n     <use style=\"fill:#1f77b4;stroke:#1f77b4;\" x=\"185.323402\" xlink:href=\"#m0939d3b676\" y=\"128.04449\"/>\r\n     <use style=\"fill:#1f77b4;stroke:#1f77b4;\" x=\"244.084102\" xlink:href=\"#m0939d3b676\" y=\"83.322109\"/>\r\n     <use style=\"fill:#1f77b4;stroke:#1f77b4;\" x=\"188.754735\" xlink:href=\"#m0939d3b676\" y=\"152.173237\"/>\r\n     <use style=\"fill:#1f77b4;stroke:#1f77b4;\" x=\"175.716544\" xlink:href=\"#m0939d3b676\" y=\"107.260816\"/>\r\n     <use style=\"fill:#1f77b4;stroke:#1f77b4;\" x=\"202.641224\" xlink:href=\"#m0939d3b676\" y=\"136.940487\"/>\r\n     <use style=\"fill:#1f77b4;stroke:#1f77b4;\" x=\"264.776261\" xlink:href=\"#m0939d3b676\" y=\"69.921071\"/>\r\n     <use style=\"fill:#1f77b4;stroke:#1f77b4;\" x=\"212.759988\" xlink:href=\"#m0939d3b676\" y=\"122.587899\"/>\r\n     <use style=\"fill:#1f77b4;stroke:#1f77b4;\" x=\"202.797722\" xlink:href=\"#m0939d3b676\" y=\"120.999547\"/>\r\n     <use style=\"fill:#1f77b4;stroke:#1f77b4;\" x=\"202.449568\" xlink:href=\"#m0939d3b676\" y=\"101.615305\"/>\r\n     <use style=\"fill:#1f77b4;stroke:#1f77b4;\" x=\"181.682551\" xlink:href=\"#m0939d3b676\" y=\"137.740616\"/>\r\n     <use style=\"fill:#1f77b4;stroke:#1f77b4;\" x=\"232.394222\" xlink:href=\"#m0939d3b676\" y=\"95.195231\"/>\r\n     <use style=\"fill:#1f77b4;stroke:#1f77b4;\" x=\"199.014695\" xlink:href=\"#m0939d3b676\" y=\"134.543485\"/>\r\n     <use style=\"fill:#1f77b4;stroke:#1f77b4;\" x=\"233.882588\" xlink:href=\"#m0939d3b676\" y=\"80.129797\"/>\r\n     <use style=\"fill:#1f77b4;stroke:#1f77b4;\" x=\"185.48656\" xlink:href=\"#m0939d3b676\" y=\"146.479218\"/>\r\n     <use style=\"fill:#1f77b4;stroke:#1f77b4;\" x=\"160.523827\" xlink:href=\"#m0939d3b676\" y=\"132.463846\"/>\r\n     <use style=\"fill:#1f77b4;stroke:#1f77b4;\" x=\"218.033732\" xlink:href=\"#m0939d3b676\" y=\"108.583905\"/>\r\n     <use style=\"fill:#1f77b4;stroke:#1f77b4;\" x=\"213.574194\" xlink:href=\"#m0939d3b676\" y=\"97.514982\"/>\r\n     <use style=\"fill:#1f77b4;stroke:#1f77b4;\" x=\"174.870962\" xlink:href=\"#m0939d3b676\" y=\"136.569363\"/>\r\n     <use style=\"fill:#1f77b4;stroke:#1f77b4;\" x=\"148.430247\" xlink:href=\"#m0939d3b676\" y=\"177.616579\"/>\r\n     <use style=\"fill:#1f77b4;stroke:#1f77b4;\" x=\"225.296215\" xlink:href=\"#m0939d3b676\" y=\"114.710722\"/>\r\n     <use style=\"fill:#1f77b4;stroke:#1f77b4;\" x=\"192.194892\" xlink:href=\"#m0939d3b676\" y=\"107.335666\"/>\r\n     <use style=\"fill:#1f77b4;stroke:#1f77b4;\" x=\"165.700513\" xlink:href=\"#m0939d3b676\" y=\"105.682206\"/>\r\n     <use style=\"fill:#1f77b4;stroke:#1f77b4;\" x=\"215.60327\" xlink:href=\"#m0939d3b676\" y=\"102.249357\"/>\r\n     <use style=\"fill:#1f77b4;stroke:#1f77b4;\" x=\"188.207148\" xlink:href=\"#m0939d3b676\" y=\"125.837985\"/>\r\n     <use style=\"fill:#1f77b4;stroke:#1f77b4;\" x=\"176.325013\" xlink:href=\"#m0939d3b676\" y=\"148.395972\"/>\r\n     <use style=\"fill:#1f77b4;stroke:#1f77b4;\" x=\"173.324097\" xlink:href=\"#m0939d3b676\" y=\"127.360777\"/>\r\n     <use style=\"fill:#1f77b4;stroke:#1f77b4;\" x=\"188.143199\" xlink:href=\"#m0939d3b676\" y=\"142.793834\"/>\r\n     <use style=\"fill:#1f77b4;stroke:#1f77b4;\" x=\"157.854713\" xlink:href=\"#m0939d3b676\" y=\"163.208885\"/>\r\n     <use style=\"fill:#1f77b4;stroke:#1f77b4;\" x=\"221.071836\" xlink:href=\"#m0939d3b676\" y=\"97.767536\"/>\r\n     <use style=\"fill:#1f77b4;stroke:#1f77b4;\" x=\"240.63814\" xlink:href=\"#m0939d3b676\" y=\"96.24975\"/>\r\n     <use style=\"fill:#1f77b4;stroke:#1f77b4;\" x=\"168.267451\" xlink:href=\"#m0939d3b676\" y=\"158.110999\"/>\r\n     <use style=\"fill:#1f77b4;stroke:#1f77b4;\" x=\"215.390197\" xlink:href=\"#m0939d3b676\" y=\"107.234369\"/>\r\n     <use style=\"fill:#1f77b4;stroke:#1f77b4;\" x=\"178.971545\" xlink:href=\"#m0939d3b676\" y=\"110.950349\"/>\r\n     <use style=\"fill:#1f77b4;stroke:#1f77b4;\" x=\"226.168651\" xlink:href=\"#m0939d3b676\" y=\"77.648546\"/>\r\n     <use style=\"fill:#1f77b4;stroke:#1f77b4;\" x=\"222.906685\" xlink:href=\"#m0939d3b676\" y=\"103.797104\"/>\r\n     <use style=\"fill:#1f77b4;stroke:#1f77b4;\" x=\"165.349\" xlink:href=\"#m0939d3b676\" y=\"133.588548\"/>\r\n     <use style=\"fill:#1f77b4;stroke:#1f77b4;\" x=\"167.843336\" xlink:href=\"#m0939d3b676\" y=\"140.253179\"/>\r\n     <use style=\"fill:#1f77b4;stroke:#1f77b4;\" x=\"203.936382\" xlink:href=\"#m0939d3b676\" y=\"100.834362\"/>\r\n     <use style=\"fill:#1f77b4;stroke:#1f77b4;\" x=\"247.440025\" xlink:href=\"#m0939d3b676\" y=\"85.776238\"/>\r\n     <use style=\"fill:#1f77b4;stroke:#1f77b4;\" x=\"202.346362\" xlink:href=\"#m0939d3b676\" y=\"98.162484\"/>\r\n     <use style=\"fill:#1f77b4;stroke:#1f77b4;\" x=\"196.536653\" xlink:href=\"#m0939d3b676\" y=\"126.37711\"/>\r\n     <use style=\"fill:#1f77b4;stroke:#1f77b4;\" x=\"158.193706\" xlink:href=\"#m0939d3b676\" y=\"146.421694\"/>\r\n     <use style=\"fill:#1f77b4;stroke:#1f77b4;\" x=\"251.998341\" xlink:href=\"#m0939d3b676\" y=\"100.171574\"/>\r\n     <use style=\"fill:#1f77b4;stroke:#1f77b4;\" x=\"258.54537\" xlink:href=\"#m0939d3b676\" y=\"79.328318\"/>\r\n     <use style=\"fill:#1f77b4;stroke:#1f77b4;\" x=\"192.0246\" xlink:href=\"#m0939d3b676\" y=\"117.43744\"/>\r\n     <use style=\"fill:#1f77b4;stroke:#1f77b4;\" x=\"162.042777\" xlink:href=\"#m0939d3b676\" y=\"142.695885\"/>\r\n     <use style=\"fill:#1f77b4;stroke:#1f77b4;\" x=\"231.034159\" xlink:href=\"#m0939d3b676\" y=\"113.699182\"/>\r\n     <use style=\"fill:#1f77b4;stroke:#1f77b4;\" x=\"150.248702\" xlink:href=\"#m0939d3b676\" y=\"149.393739\"/>\r\n     <use style=\"fill:#1f77b4;stroke:#1f77b4;\" x=\"223.342302\" xlink:href=\"#m0939d3b676\" y=\"101.263839\"/>\r\n     <use style=\"fill:#1f77b4;stroke:#1f77b4;\" x=\"171.993999\" xlink:href=\"#m0939d3b676\" y=\"144.399426\"/>\r\n     <use style=\"fill:#1f77b4;stroke:#1f77b4;\" x=\"164.334968\" xlink:href=\"#m0939d3b676\" y=\"134.414868\"/>\r\n     <use style=\"fill:#1f77b4;stroke:#1f77b4;\" x=\"170.121709\" xlink:href=\"#m0939d3b676\" y=\"158.088188\"/>\r\n     <use style=\"fill:#1f77b4;stroke:#1f77b4;\" x=\"199.777138\" xlink:href=\"#m0939d3b676\" y=\"98.888829\"/>\r\n     <use style=\"fill:#1f77b4;stroke:#1f77b4;\" x=\"184.28276\" xlink:href=\"#m0939d3b676\" y=\"132.635517\"/>\r\n     <use style=\"fill:#1f77b4;stroke:#1f77b4;\" x=\"184.429384\" xlink:href=\"#m0939d3b676\" y=\"115.299396\"/>\r\n     <use style=\"fill:#1f77b4;stroke:#1f77b4;\" x=\"145.619562\" xlink:href=\"#m0939d3b676\" y=\"149.879027\"/>\r\n     <use style=\"fill:#1f77b4;stroke:#1f77b4;\" x=\"203.094237\" xlink:href=\"#m0939d3b676\" y=\"121.499949\"/>\r\n     <use style=\"fill:#1f77b4;stroke:#1f77b4;\" x=\"238.798201\" xlink:href=\"#m0939d3b676\" y=\"109.241561\"/>\r\n     <use style=\"fill:#1f77b4;stroke:#1f77b4;\" x=\"249.619494\" xlink:href=\"#m0939d3b676\" y=\"48.643085\"/>\r\n     <use style=\"fill:#1f77b4;stroke:#1f77b4;\" x=\"230.047035\" xlink:href=\"#m0939d3b676\" y=\"109.44092\"/>\r\n     <use style=\"fill:#1f77b4;stroke:#1f77b4;\" x=\"210.064404\" xlink:href=\"#m0939d3b676\" y=\"118.842261\"/>\r\n     <use style=\"fill:#1f77b4;stroke:#1f77b4;\" x=\"199.88744\" xlink:href=\"#m0939d3b676\" y=\"117.638459\"/>\r\n     <use style=\"fill:#1f77b4;stroke:#1f77b4;\" x=\"224.858437\" xlink:href=\"#m0939d3b676\" y=\"82.865912\"/>\r\n     <use style=\"fill:#1f77b4;stroke:#1f77b4;\" x=\"151.942299\" xlink:href=\"#m0939d3b676\" y=\"120.922241\"/>\r\n     <use style=\"fill:#1f77b4;stroke:#1f77b4;\" x=\"213.215838\" xlink:href=\"#m0939d3b676\" y=\"94.061828\"/>\r\n     <use style=\"fill:#1f77b4;stroke:#1f77b4;\" x=\"242.183887\" xlink:href=\"#m0939d3b676\" y=\"53.611567\"/>\r\n    </g>\r\n   </g>\r\n   <g id=\"matplotlib.axis_1\">\r\n    <g id=\"xtick_1\">\r\n     <g id=\"line2d_1\">\r\n      <defs>\r\n       <path d=\"M 0 0 \r\nL 0 3.5 \r\n\" id=\"m749c03489a\" style=\"stroke:#000000;stroke-width:0.8;\"/>\r\n      </defs>\r\n      <g>\r\n       <use style=\"stroke:#000000;stroke-width:0.8;\" x=\"48.505682\" xlink:href=\"#m749c03489a\" y=\"224.64\"/>\r\n      </g>\r\n     </g>\r\n     <g id=\"text_1\">\r\n      <!-- 0 -->\r\n      <g transform=\"translate(45.324432 239.238437)scale(0.1 -0.1)\">\r\n       <defs>\r\n        <path d=\"M 31.78125 66.40625 \r\nQ 24.171875 66.40625 20.328125 58.90625 \r\nQ 16.5 51.421875 16.5 36.375 \r\nQ 16.5 21.390625 20.328125 13.890625 \r\nQ 24.171875 6.390625 31.78125 6.390625 \r\nQ 39.453125 6.390625 43.28125 13.890625 \r\nQ 47.125 21.390625 47.125 36.375 \r\nQ 47.125 51.421875 43.28125 58.90625 \r\nQ 39.453125 66.40625 31.78125 66.40625 \r\nz\r\nM 31.78125 74.21875 \r\nQ 44.046875 74.21875 50.515625 64.515625 \r\nQ 56.984375 54.828125 56.984375 36.375 \r\nQ 56.984375 17.96875 50.515625 8.265625 \r\nQ 44.046875 -1.421875 31.78125 -1.421875 \r\nQ 19.53125 -1.421875 13.0625 8.265625 \r\nQ 6.59375 17.96875 6.59375 36.375 \r\nQ 6.59375 54.828125 13.0625 64.515625 \r\nQ 19.53125 74.21875 31.78125 74.21875 \r\nz\r\n\" id=\"DejaVuSans-48\"/>\r\n       </defs>\r\n       <use xlink:href=\"#DejaVuSans-48\"/>\r\n      </g>\r\n     </g>\r\n    </g>\r\n    <g id=\"xtick_2\">\r\n     <g id=\"line2d_2\">\r\n      <g>\r\n       <use style=\"stroke:#000000;stroke-width:0.8;\" x=\"109.993285\" xlink:href=\"#m749c03489a\" y=\"224.64\"/>\r\n      </g>\r\n     </g>\r\n     <g id=\"text_2\">\r\n      <!-- 20 -->\r\n      <g transform=\"translate(103.630785 239.238437)scale(0.1 -0.1)\">\r\n       <defs>\r\n        <path d=\"M 19.1875 8.296875 \r\nL 53.609375 8.296875 \r\nL 53.609375 0 \r\nL 7.328125 0 \r\nL 7.328125 8.296875 \r\nQ 12.9375 14.109375 22.625 23.890625 \r\nQ 32.328125 33.6875 34.8125 36.53125 \r\nQ 39.546875 41.84375 41.421875 45.53125 \r\nQ 43.3125 49.21875 43.3125 52.78125 \r\nQ 43.3125 58.59375 39.234375 62.25 \r\nQ 35.15625 65.921875 28.609375 65.921875 \r\nQ 23.96875 65.921875 18.8125 64.3125 \r\nQ 13.671875 62.703125 7.8125 59.421875 \r\nL 7.8125 69.390625 \r\nQ 13.765625 71.78125 18.9375 73 \r\nQ 24.125 74.21875 28.421875 74.21875 \r\nQ 39.75 74.21875 46.484375 68.546875 \r\nQ 53.21875 62.890625 53.21875 53.421875 \r\nQ 53.21875 48.921875 51.53125 44.890625 \r\nQ 49.859375 40.875 45.40625 35.40625 \r\nQ 44.1875 33.984375 37.640625 27.21875 \r\nQ 31.109375 20.453125 19.1875 8.296875 \r\nz\r\n\" id=\"DejaVuSans-50\"/>\r\n       </defs>\r\n       <use xlink:href=\"#DejaVuSans-50\"/>\r\n       <use x=\"63.623047\" xlink:href=\"#DejaVuSans-48\"/>\r\n      </g>\r\n     </g>\r\n    </g>\r\n    <g id=\"xtick_3\">\r\n     <g id=\"line2d_3\">\r\n      <g>\r\n       <use style=\"stroke:#000000;stroke-width:0.8;\" x=\"171.480888\" xlink:href=\"#m749c03489a\" y=\"224.64\"/>\r\n      </g>\r\n     </g>\r\n     <g id=\"text_3\">\r\n      <!-- 40 -->\r\n      <g transform=\"translate(165.118388 239.238437)scale(0.1 -0.1)\">\r\n       <defs>\r\n        <path d=\"M 37.796875 64.3125 \r\nL 12.890625 25.390625 \r\nL 37.796875 25.390625 \r\nz\r\nM 35.203125 72.90625 \r\nL 47.609375 72.90625 \r\nL 47.609375 25.390625 \r\nL 58.015625 25.390625 \r\nL 58.015625 17.1875 \r\nL 47.609375 17.1875 \r\nL 47.609375 0 \r\nL 37.796875 0 \r\nL 37.796875 17.1875 \r\nL 4.890625 17.1875 \r\nL 4.890625 26.703125 \r\nz\r\n\" id=\"DejaVuSans-52\"/>\r\n       </defs>\r\n       <use xlink:href=\"#DejaVuSans-52\"/>\r\n       <use x=\"63.623047\" xlink:href=\"#DejaVuSans-48\"/>\r\n      </g>\r\n     </g>\r\n    </g>\r\n    <g id=\"xtick_4\">\r\n     <g id=\"line2d_4\">\r\n      <g>\r\n       <use style=\"stroke:#000000;stroke-width:0.8;\" x=\"232.968492\" xlink:href=\"#m749c03489a\" y=\"224.64\"/>\r\n      </g>\r\n     </g>\r\n     <g id=\"text_4\">\r\n      <!-- 60 -->\r\n      <g transform=\"translate(226.605992 239.238437)scale(0.1 -0.1)\">\r\n       <defs>\r\n        <path d=\"M 33.015625 40.375 \r\nQ 26.375 40.375 22.484375 35.828125 \r\nQ 18.609375 31.296875 18.609375 23.390625 \r\nQ 18.609375 15.53125 22.484375 10.953125 \r\nQ 26.375 6.390625 33.015625 6.390625 \r\nQ 39.65625 6.390625 43.53125 10.953125 \r\nQ 47.40625 15.53125 47.40625 23.390625 \r\nQ 47.40625 31.296875 43.53125 35.828125 \r\nQ 39.65625 40.375 33.015625 40.375 \r\nz\r\nM 52.59375 71.296875 \r\nL 52.59375 62.3125 \r\nQ 48.875 64.0625 45.09375 64.984375 \r\nQ 41.3125 65.921875 37.59375 65.921875 \r\nQ 27.828125 65.921875 22.671875 59.328125 \r\nQ 17.53125 52.734375 16.796875 39.40625 \r\nQ 19.671875 43.65625 24.015625 45.921875 \r\nQ 28.375 48.1875 33.59375 48.1875 \r\nQ 44.578125 48.1875 50.953125 41.515625 \r\nQ 57.328125 34.859375 57.328125 23.390625 \r\nQ 57.328125 12.15625 50.6875 5.359375 \r\nQ 44.046875 -1.421875 33.015625 -1.421875 \r\nQ 20.359375 -1.421875 13.671875 8.265625 \r\nQ 6.984375 17.96875 6.984375 36.375 \r\nQ 6.984375 53.65625 15.1875 63.9375 \r\nQ 23.390625 74.21875 37.203125 74.21875 \r\nQ 40.921875 74.21875 44.703125 73.484375 \r\nQ 48.484375 72.75 52.59375 71.296875 \r\nz\r\n\" id=\"DejaVuSans-54\"/>\r\n       </defs>\r\n       <use xlink:href=\"#DejaVuSans-54\"/>\r\n       <use x=\"63.623047\" xlink:href=\"#DejaVuSans-48\"/>\r\n      </g>\r\n     </g>\r\n    </g>\r\n    <g id=\"xtick_5\">\r\n     <g id=\"line2d_5\">\r\n      <g>\r\n       <use style=\"stroke:#000000;stroke-width:0.8;\" x=\"294.456095\" xlink:href=\"#m749c03489a\" y=\"224.64\"/>\r\n      </g>\r\n     </g>\r\n     <g id=\"text_5\">\r\n      <!-- 80 -->\r\n      <g transform=\"translate(288.093595 239.238437)scale(0.1 -0.1)\">\r\n       <defs>\r\n        <path d=\"M 31.78125 34.625 \r\nQ 24.75 34.625 20.71875 30.859375 \r\nQ 16.703125 27.09375 16.703125 20.515625 \r\nQ 16.703125 13.921875 20.71875 10.15625 \r\nQ 24.75 6.390625 31.78125 6.390625 \r\nQ 38.8125 6.390625 42.859375 10.171875 \r\nQ 46.921875 13.96875 46.921875 20.515625 \r\nQ 46.921875 27.09375 42.890625 30.859375 \r\nQ 38.875 34.625 31.78125 34.625 \r\nz\r\nM 21.921875 38.8125 \r\nQ 15.578125 40.375 12.03125 44.71875 \r\nQ 8.5 49.078125 8.5 55.328125 \r\nQ 8.5 64.0625 14.71875 69.140625 \r\nQ 20.953125 74.21875 31.78125 74.21875 \r\nQ 42.671875 74.21875 48.875 69.140625 \r\nQ 55.078125 64.0625 55.078125 55.328125 \r\nQ 55.078125 49.078125 51.53125 44.71875 \r\nQ 48 40.375 41.703125 38.8125 \r\nQ 48.828125 37.15625 52.796875 32.3125 \r\nQ 56.78125 27.484375 56.78125 20.515625 \r\nQ 56.78125 9.90625 50.3125 4.234375 \r\nQ 43.84375 -1.421875 31.78125 -1.421875 \r\nQ 19.734375 -1.421875 13.25 4.234375 \r\nQ 6.78125 9.90625 6.78125 20.515625 \r\nQ 6.78125 27.484375 10.78125 32.3125 \r\nQ 14.796875 37.15625 21.921875 38.8125 \r\nz\r\nM 18.3125 54.390625 \r\nQ 18.3125 48.734375 21.84375 45.5625 \r\nQ 25.390625 42.390625 31.78125 42.390625 \r\nQ 38.140625 42.390625 41.71875 45.5625 \r\nQ 45.3125 48.734375 45.3125 54.390625 \r\nQ 45.3125 60.0625 41.71875 63.234375 \r\nQ 38.140625 66.40625 31.78125 66.40625 \r\nQ 25.390625 66.40625 21.84375 63.234375 \r\nQ 18.3125 60.0625 18.3125 54.390625 \r\nz\r\n\" id=\"DejaVuSans-56\"/>\r\n       </defs>\r\n       <use xlink:href=\"#DejaVuSans-56\"/>\r\n       <use x=\"63.623047\" xlink:href=\"#DejaVuSans-48\"/>\r\n      </g>\r\n     </g>\r\n    </g>\r\n    <g id=\"xtick_6\">\r\n     <g id=\"line2d_6\">\r\n      <g>\r\n       <use style=\"stroke:#000000;stroke-width:0.8;\" x=\"355.943698\" xlink:href=\"#m749c03489a\" y=\"224.64\"/>\r\n      </g>\r\n     </g>\r\n     <g id=\"text_6\">\r\n      <!-- 100 -->\r\n      <g transform=\"translate(346.399948 239.238437)scale(0.1 -0.1)\">\r\n       <defs>\r\n        <path d=\"M 12.40625 8.296875 \r\nL 28.515625 8.296875 \r\nL 28.515625 63.921875 \r\nL 10.984375 60.40625 \r\nL 10.984375 69.390625 \r\nL 28.421875 72.90625 \r\nL 38.28125 72.90625 \r\nL 38.28125 8.296875 \r\nL 54.390625 8.296875 \r\nL 54.390625 0 \r\nL 12.40625 0 \r\nz\r\n\" id=\"DejaVuSans-49\"/>\r\n       </defs>\r\n       <use xlink:href=\"#DejaVuSans-49\"/>\r\n       <use x=\"63.623047\" xlink:href=\"#DejaVuSans-48\"/>\r\n       <use x=\"127.246094\" xlink:href=\"#DejaVuSans-48\"/>\r\n      </g>\r\n     </g>\r\n    </g>\r\n   </g>\r\n   <g id=\"matplotlib.axis_2\">\r\n    <g id=\"ytick_1\">\r\n     <g id=\"line2d_7\">\r\n      <defs>\r\n       <path d=\"M 0 0 \r\nL -3.5 0 \r\n\" id=\"m2586db5129\" style=\"stroke:#000000;stroke-width:0.8;\"/>\r\n      </defs>\r\n      <g>\r\n       <use style=\"stroke:#000000;stroke-width:0.8;\" x=\"33.2875\" xlink:href=\"#m2586db5129\" y=\"194.994805\"/>\r\n      </g>\r\n     </g>\r\n     <g id=\"text_7\">\r\n      <!-- 20 -->\r\n      <g transform=\"translate(13.5625 198.794024)scale(0.1 -0.1)\">\r\n       <use xlink:href=\"#DejaVuSans-50\"/>\r\n       <use x=\"63.623047\" xlink:href=\"#DejaVuSans-48\"/>\r\n      </g>\r\n     </g>\r\n    </g>\r\n    <g id=\"ytick_2\">\r\n     <g id=\"line2d_8\">\r\n      <g>\r\n       <use style=\"stroke:#000000;stroke-width:0.8;\" x=\"33.2875\" xlink:href=\"#m2586db5129\" y=\"165.306214\"/>\r\n      </g>\r\n     </g>\r\n     <g id=\"text_8\">\r\n      <!-- 40 -->\r\n      <g transform=\"translate(13.5625 169.105432)scale(0.1 -0.1)\">\r\n       <use xlink:href=\"#DejaVuSans-52\"/>\r\n       <use x=\"63.623047\" xlink:href=\"#DejaVuSans-48\"/>\r\n      </g>\r\n     </g>\r\n    </g>\r\n    <g id=\"ytick_3\">\r\n     <g id=\"line2d_9\">\r\n      <g>\r\n       <use style=\"stroke:#000000;stroke-width:0.8;\" x=\"33.2875\" xlink:href=\"#m2586db5129\" y=\"135.617622\"/>\r\n      </g>\r\n     </g>\r\n     <g id=\"text_9\">\r\n      <!-- 60 -->\r\n      <g transform=\"translate(13.5625 139.416841)scale(0.1 -0.1)\">\r\n       <use xlink:href=\"#DejaVuSans-54\"/>\r\n       <use x=\"63.623047\" xlink:href=\"#DejaVuSans-48\"/>\r\n      </g>\r\n     </g>\r\n    </g>\r\n    <g id=\"ytick_4\">\r\n     <g id=\"line2d_10\">\r\n      <g>\r\n       <use style=\"stroke:#000000;stroke-width:0.8;\" x=\"33.2875\" xlink:href=\"#m2586db5129\" y=\"105.92903\"/>\r\n      </g>\r\n     </g>\r\n     <g id=\"text_10\">\r\n      <!-- 80 -->\r\n      <g transform=\"translate(13.5625 109.728249)scale(0.1 -0.1)\">\r\n       <use xlink:href=\"#DejaVuSans-56\"/>\r\n       <use x=\"63.623047\" xlink:href=\"#DejaVuSans-48\"/>\r\n      </g>\r\n     </g>\r\n    </g>\r\n    <g id=\"ytick_5\">\r\n     <g id=\"line2d_11\">\r\n      <g>\r\n       <use style=\"stroke:#000000;stroke-width:0.8;\" x=\"33.2875\" xlink:href=\"#m2586db5129\" y=\"76.240438\"/>\r\n      </g>\r\n     </g>\r\n     <g id=\"text_11\">\r\n      <!-- 100 -->\r\n      <g transform=\"translate(7.2 80.039657)scale(0.1 -0.1)\">\r\n       <use xlink:href=\"#DejaVuSans-49\"/>\r\n       <use x=\"63.623047\" xlink:href=\"#DejaVuSans-48\"/>\r\n       <use x=\"127.246094\" xlink:href=\"#DejaVuSans-48\"/>\r\n      </g>\r\n     </g>\r\n    </g>\r\n    <g id=\"ytick_6\">\r\n     <g id=\"line2d_12\">\r\n      <g>\r\n       <use style=\"stroke:#000000;stroke-width:0.8;\" x=\"33.2875\" xlink:href=\"#m2586db5129\" y=\"46.551847\"/>\r\n      </g>\r\n     </g>\r\n     <g id=\"text_12\">\r\n      <!-- 120 -->\r\n      <g transform=\"translate(7.2 50.351065)scale(0.1 -0.1)\">\r\n       <use xlink:href=\"#DejaVuSans-49\"/>\r\n       <use x=\"63.623047\" xlink:href=\"#DejaVuSans-50\"/>\r\n       <use x=\"127.246094\" xlink:href=\"#DejaVuSans-48\"/>\r\n      </g>\r\n     </g>\r\n    </g>\r\n    <g id=\"ytick_7\">\r\n     <g id=\"line2d_13\">\r\n      <g>\r\n       <use style=\"stroke:#000000;stroke-width:0.8;\" x=\"33.2875\" xlink:href=\"#m2586db5129\" y=\"16.863255\"/>\r\n      </g>\r\n     </g>\r\n     <g id=\"text_13\">\r\n      <!-- 140 -->\r\n      <g transform=\"translate(7.2 20.662474)scale(0.1 -0.1)\">\r\n       <use xlink:href=\"#DejaVuSans-49\"/>\r\n       <use x=\"63.623047\" xlink:href=\"#DejaVuSans-52\"/>\r\n       <use x=\"127.246094\" xlink:href=\"#DejaVuSans-48\"/>\r\n      </g>\r\n     </g>\r\n    </g>\r\n   </g>\r\n   <g id=\"line2d_14\">\r\n    <path clip-path=\"url(#pdc3937967e)\" d=\"M 48.505682 214.756364 \r\nL 51.580062 212.759669 \r\nL 54.654442 210.762975 \r\nL 57.728822 208.766281 \r\nL 60.803202 206.769587 \r\nL 63.877583 204.772893 \r\nL 66.951963 202.776198 \r\nL 70.026343 200.779504 \r\nL 73.100723 198.78281 \r\nL 76.175103 196.786116 \r\nL 79.249483 194.789421 \r\nL 82.323864 192.792727 \r\nL 85.398244 190.796033 \r\nL 88.472624 188.799339 \r\nL 91.547004 186.802645 \r\nL 94.621384 184.80595 \r\nL 97.695764 182.809256 \r\nL 100.770145 180.812562 \r\nL 103.844525 178.815868 \r\nL 106.918905 176.819174 \r\nL 109.993285 174.822479 \r\nL 113.067665 172.825785 \r\nL 116.142045 170.829091 \r\nL 119.216426 168.832397 \r\nL 122.290806 166.835702 \r\nL 125.365186 164.839008 \r\nL 128.439566 162.842314 \r\nL 131.513946 160.84562 \r\nL 134.588326 158.848926 \r\nL 137.662707 156.852231 \r\nL 140.737087 154.855537 \r\nL 143.811467 152.858843 \r\nL 146.885847 150.862149 \r\nL 149.960227 148.865455 \r\nL 153.034607 146.86876 \r\nL 156.108988 144.872066 \r\nL 159.183368 142.875372 \r\nL 162.257748 140.878678 \r\nL 165.332128 138.881983 \r\nL 168.406508 136.885289 \r\nL 171.480888 134.888595 \r\nL 174.555269 132.891901 \r\nL 177.629649 130.895207 \r\nL 180.704029 128.898512 \r\nL 183.778409 126.901818 \r\nL 186.852789 124.905124 \r\nL 189.927169 122.90843 \r\nL 193.00155 120.911736 \r\nL 196.07593 118.915041 \r\nL 199.15031 116.918347 \r\nL 202.22469 114.921653 \r\nL 205.29907 112.924959 \r\nL 208.37345 110.928264 \r\nL 211.447831 108.93157 \r\nL 214.522211 106.934876 \r\nL 217.596591 104.938182 \r\nL 220.670971 102.941488 \r\nL 223.745351 100.944793 \r\nL 226.819731 98.948099 \r\nL 229.894112 96.951405 \r\nL 232.968492 94.954711 \r\nL 236.042872 92.958017 \r\nL 239.117252 90.961322 \r\nL 242.191632 88.964628 \r\nL 245.266012 86.967934 \r\nL 248.340393 84.97124 \r\nL 251.414773 82.974545 \r\nL 254.489153 80.977851 \r\nL 257.563533 78.981157 \r\nL 260.637913 76.984463 \r\nL 263.712293 74.987769 \r\nL 266.786674 72.991074 \r\nL 269.861054 70.99438 \r\nL 272.935434 68.997686 \r\nL 276.009814 67.000992 \r\nL 279.084194 65.004298 \r\nL 282.158574 63.007603 \r\nL 285.232955 61.010909 \r\nL 288.307335 59.014215 \r\nL 291.381715 57.017521 \r\nL 294.456095 55.020826 \r\nL 297.530475 53.024132 \r\nL 300.604855 51.027438 \r\nL 303.679236 49.030744 \r\nL 306.753616 47.03405 \r\nL 309.827996 45.037355 \r\nL 312.902376 43.040661 \r\nL 315.976756 41.043967 \r\nL 319.051136 39.047273 \r\nL 322.125517 37.050579 \r\nL 325.199897 35.053884 \r\nL 328.274277 33.05719 \r\nL 331.348657 31.060496 \r\nL 334.423037 29.063802 \r\nL 337.497417 27.067107 \r\nL 340.571798 25.070413 \r\nL 343.646178 23.073719 \r\nL 346.720558 21.077025 \r\nL 349.794938 19.080331 \r\nL 352.869318 17.083636 \r\n\" style=\"fill:none;stroke:#1f77b4;stroke-linecap:square;stroke-width:1.5;\"/>\r\n   </g>\r\n   <g id=\"patch_3\">\r\n    <path d=\"M 33.2875 224.64 \r\nL 33.2875 7.2 \r\n\" style=\"fill:none;stroke:#000000;stroke-linecap:square;stroke-linejoin:miter;stroke-width:0.8;\"/>\r\n   </g>\r\n   <g id=\"patch_4\">\r\n    <path d=\"M 368.0875 224.64 \r\nL 368.0875 7.2 \r\n\" style=\"fill:none;stroke:#000000;stroke-linecap:square;stroke-linejoin:miter;stroke-width:0.8;\"/>\r\n   </g>\r\n   <g id=\"patch_5\">\r\n    <path d=\"M 33.2875 224.64 \r\nL 368.0875 224.64 \r\n\" style=\"fill:none;stroke:#000000;stroke-linecap:square;stroke-linejoin:miter;stroke-width:0.8;\"/>\r\n   </g>\r\n   <g id=\"patch_6\">\r\n    <path d=\"M 33.2875 7.2 \r\nL 368.0875 7.2 \r\n\" style=\"fill:none;stroke:#000000;stroke-linecap:square;stroke-linejoin:miter;stroke-width:0.8;\"/>\r\n   </g>\r\n  </g>\r\n </g>\r\n <defs>\r\n  <clipPath id=\"pdc3937967e\">\r\n   <rect height=\"217.44\" width=\"334.8\" x=\"33.2875\" y=\"7.2\"/>\r\n  </clipPath>\r\n </defs>\r\n</svg>\r\n",
      "image/png": "[encoded data removed]"
     },
     "metadata": {
      "needs_background": "light"
     }
    }
   ],
   "source": [
    "#implement a least squares function to find a, b\n",
    "\n",
    "x_mean = x_train.mean()\n",
    "y_mean = y_train.mean()\n",
    "b_upper = 0\n",
    "b_lower = 0\n",
    "print(x_train.shape)\n",
    "for i in range(x_train.shape[0]):\n",
    "\n",
    "   b_upper+= (x_train.values[i] - x_mean) * (y_train.values[i] - y_mean)\n",
    "   b_lower+= (x_train.values[i] - x_mean)**2\n",
    "\n",
    "#for i in range(x_train.shape[0]):\n",
    "   # b_upper+= (x_train.value[i][0] - x_mean)*(y_train.value[i][1] - y_mean)\n",
    "   ## b_lower+= (x_train - x_mean)**2\n",
    "\n",
    "b = b_upper/b_lower\n",
    "a = y_mean - (b*x_mean)\n",
    "print(b)\n",
    "print(a)\n",
    "\n",
    "rang = np.arange(0, 100)\n",
    "y = rang*b + a\n",
    "\n",
    "plt.plot(y)\n",
    "plt.scatter(x_train, y_train)\n",
    "plt.show()\n",
    "\n"
   ]
  },
  {
   "cell_type": "code",
   "execution_count": null,
   "metadata": {},
   "outputs": [],
   "source": [
    "# YOUR CODE HERE\n",
    "#X = df['X'].values.reshape(-1,1)\n",
    "#Y = df['Y'].values.reshape(-1,1)\n",
    "#x_train, x_test, y_train, y_test = train_test_split(X, Y, test_size=0.2)\n",
    "#regressor = LinearRegression()\n",
    "#regressor.fit(x_train, y_train)\n",
    "#print(regressor.coef_)\n",
    "#print(regressor.intercept_)\n"
   ]
  },
  {
   "cell_type": "code",
   "execution_count": null,
   "metadata": {},
   "outputs": [],
   "source": [
    "#a = float(regressor.coef_[0])\n",
    "#b = float(regressor.intercept_[0])\n",
    "#print(b)\n",
    "#print(a)\n",
    "\n"
   ]
  },
  {
   "cell_type": "code",
   "execution_count": null,
   "metadata": {
    "deletable": false,
    "editable": false,
    "nbgrader": {
     "cell_type": "code",
     "checksum": "f99a446fb5ac3e0d1da4cbb9b795eacb",
     "grade": true,
     "grade_id": "cell-c7fea6e45dc92701",
     "locked": true,
     "points": 5,
     "schema_version": 3,
     "solution": false,
     "task": false
    }
   },
   "outputs": [],
   "source": [
    "assert abs(a - 7.72) <=0.03\n",
    "assert abs(b - 1.32) <=0.03"
   ]
  },
  {
   "cell_type": "code",
   "execution_count": null,
   "metadata": {
    "deletable": false,
    "nbgrader": {
     "cell_type": "code",
     "checksum": "3dfec453f61e443318a83756c5d376ed",
     "grade": false,
     "grade_id": "cell-721384e1a2152077",
     "locked": false,
     "schema_version": 3,
     "solution": true,
     "task": false
    }
   },
   "outputs": [],
   "source": [
    "line = 0\n",
    "x = np.array([])\n",
    "# YOUR CODE HERE\n",
    "raise NotImplementedError()"
   ]
  },
  {
   "cell_type": "code",
   "execution_count": null,
   "metadata": {
    "deletable": false,
    "editable": false,
    "nbgrader": {
     "cell_type": "code",
     "checksum": "08b1f875272b06a1c8562f53f455ad9a",
     "grade": true,
     "grade_id": "cell-71f1201b79ff7e44",
     "locked": true,
     "points": 5,
     "schema_version": 3,
     "solution": false,
     "task": false
    }
   },
   "outputs": [],
   "source": [
    "assert abs(a +3*b - 11.69) <= 0.05\n",
    "assert abs(a +100*b - 140) <= 1"
   ]
  },
  {
   "cell_type": "code",
   "execution_count": null,
   "metadata": {
    "deletable": false,
    "nbgrader": {
     "cell_type": "code",
     "checksum": "190229c08d10f48c9a807e51e6ba8eed",
     "grade": false,
     "grade_id": "cell-e8d9edf92254aa00",
     "locked": false,
     "schema_version": 3,
     "solution": true,
     "task": false
    }
   },
   "outputs": [],
   "source": [
    "# YOUR CODE HERE\n",
    "raise NotImplementedError()"
   ]
  },
  {
   "cell_type": "code",
   "execution_count": null,
   "metadata": {
    "deletable": false,
    "nbgrader": {
     "cell_type": "code",
     "checksum": "de2e61e7563de9bf967c643b32565f9a",
     "grade": false,
     "grade_id": "cell-8b80d3f35ea3b407",
     "locked": false,
     "schema_version": 3,
     "solution": true,
     "task": false
    }
   },
   "outputs": [],
   "source": [
    "#Classify your test data in to classes\n",
    "#if the Y value for a certain X is lower than the line then the class is 0\n",
    "class_0 = []\n",
    "class_1 = []\n",
    "\n",
    "# YOUR CODE HERE\n",
    "for i in range(x_test.shape[0]):\n",
    "\n",
    "    \n",
    "        \n",
    "class_0 = np.array(class_0)\n",
    "class_1 = np.array(class_1)\n",
    "print(class_0.shape)\n",
    "print(class_1.shape)"
   ]
  },
  {
   "cell_type": "code",
   "execution_count": null,
   "metadata": {
    "deletable": false,
    "editable": false,
    "nbgrader": {
     "cell_type": "code",
     "checksum": "1486f3e73b7a9925bfc840c4f84432e7",
     "grade": true,
     "grade_id": "cell-73e31e3494663d82",
     "locked": true,
     "points": 5,
     "schema_version": 3,
     "solution": false,
     "task": false
    }
   },
   "outputs": [],
   "source": [
    "assert 9 < class_0.shape[0] < 13\n",
    "assert 7 < class_1.shape[0] < 11"
   ]
  },
  {
   "cell_type": "code",
   "execution_count": null,
   "metadata": {
    "deletable": false,
    "nbgrader": {
     "cell_type": "code",
     "checksum": "e91f4d245601ab07416f3122d23f9f89",
     "grade": false,
     "grade_id": "cell-db81fd9fa3a21bdf",
     "locked": false,
     "schema_version": 3,
     "solution": true,
     "task": false
    }
   },
   "outputs": [],
   "source": [
    "err = 0\n",
    "for i in range(x_test.shape[0]):\n",
    "    err += abs( y_test[i] - (a + x_test.values[i]*b) )\n",
    "\n",
    "print(err)\n",
    "raise NotImplementedError()"
   ]
  }
 ],
 "metadata": {
  "kernelspec": {
   "name": "python385jvsc74a57bd0d90068d4af1695f7f29da3e0d69c645fb50c3d97a4d02163204725620501e360",
   "display_name": "Python 3.8.5 64-bit (conda)"
  },
  "language_info": {
   "codemirror_mode": {
    "name": "ipython",
    "version": 3
   },
   "file_extension": ".py",
   "mimetype": "text/x-python",
   "name": "python",
   "nbconvert_exporter": "python",
   "pygments_lexer": "ipython3",
   "version": "3.8.5-final"
  }
 },
 "nbformat": 4,
 "nbformat_minor": 2
}